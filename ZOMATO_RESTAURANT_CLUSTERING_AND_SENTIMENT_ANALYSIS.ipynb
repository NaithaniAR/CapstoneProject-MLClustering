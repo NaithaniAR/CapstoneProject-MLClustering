{
  "nbformat": 4,
  "nbformat_minor": 0,
  "metadata": {
    "colab": {
      "name": "ZOMATO RESTAURANT CLUSTERING AND SENTIMENT ANALYSIS.ipynb",
      "provenance": [],
      "collapsed_sections": [],
      "include_colab_link": true
    },
    "kernelspec": {
      "name": "python3",
      "display_name": "Python 3"
    },
    "language_info": {
      "name": "python"
    }
  },
  "cells": [
    {
      "cell_type": "markdown",
      "metadata": {
        "id": "view-in-github",
        "colab_type": "text"
      },
      "source": [
        "<a href=\"https://colab.research.google.com/github/NaithaniAR/ZOMATO-RESTAURANT-CLUSTERING-AND-SENTIMENT-ANALYSIS/blob/main/ZOMATO_RESTAURANT_CLUSTERING_AND_SENTIMENT_ANALYSIS.ipynb\" target=\"_parent\"><img src=\"https://colab.research.google.com/assets/colab-badge.svg\" alt=\"Open In Colab\"/></a>"
      ]
    },
    {
      "cell_type": "markdown",
      "metadata": {
        "id": "LGcl5Bv9ed6u"
      },
      "source": [
        "# **Problem Statement**"
      ]
    },
    {
      "cell_type": "markdown",
      "metadata": {
        "id": "Dtb2te3Omis9"
      },
      "source": [
        "Zomato is an Indian restaurant aggregator and food delivery start-up founded by Deepinder Goyal and Pankaj Chaddah in 2008. Zomato provides information, menus and user-reviews of restaurants, and also has food delivery options from partner restaurants in select cities.\n",
        "\n",
        "India is quite famous for its diverse multi cuisine available in a large number of restaurants and hotel resorts, which is reminiscent of unity in diversity. Restaurant business in India is always evolving. More Indians are warming up to the idea of eating restaurant food whether by dining outside or getting food delivered. The growing number of restaurants in every state of India has been a motivation to inspect the data to get some insights, interesting facts and figures about the Indian food industry in each city. So, this project focuses on analysing the Zomato restaurant data for each city in India.\n",
        "\n",
        "The Project focuses on Customers and Company, you have  to analyze the sentiments of the reviews given by the customer in the data and make some useful conclusion in the form of Visualizations. Also, cluster the zomato restaurants into different segments. The data is vizualized as it becomes easy to analyse data at instant. The Analysis also solve some of the business cases that can directly help the customers finding the Best restaurant in their locality and for the company to grow up and work on the fields they are currently lagging in.\n",
        "\n",
        "This could help in clustering the restaurants into segments. Also the data has valuable information around cuisine and costing which can be used in cost vs. benefit analysis\n",
        "\n",
        "Data could be used for sentiment analysis. Also the metadata of reviewers can be used for identifying the critics in the industry. "
      ]
    },
    {
      "cell_type": "markdown",
      "metadata": {
        "id": "AzGDqdC4fZ-b"
      },
      "source": [
        "# **Attribute Information**"
      ]
    },
    {
      "cell_type": "markdown",
      "metadata": {
        "id": "1rDsYX7KtvFb"
      },
      "source": [
        "## **Zomato Restaurant names and Metadata**\n",
        "Use this dataset for clustering part"
      ]
    },
    {
      "cell_type": "markdown",
      "metadata": {
        "id": "3uB3PQRXtz-A"
      },
      "source": [
        "1. Name : Name of Restaurants\n",
        "\n",
        "2. Links : URL Links of Restaurants\n",
        "\n",
        "3. Cost : Per person estimated Cost of dining\n",
        "\n",
        "4. Collection : Tagging of Restaurants w.r.t. Zomato categories\n",
        "\n",
        "5. Cuisines : Cuisines served by Restaurants\n",
        "\n",
        "6. Timings : Restaurant Timings"
      ]
    },
    {
      "cell_type": "markdown",
      "metadata": {
        "id": "Pq7CVNxQuT8i"
      },
      "source": [
        "## **Zomato Restaurant reviews**\n",
        "Merge this dataset with Names and Matadata and then use for sentiment analysis part"
      ]
    },
    {
      "cell_type": "markdown",
      "metadata": {
        "id": "k9E4XoEGuc0G"
      },
      "source": [
        "1. Restaurant : Name of the Restaurant\n",
        "\n",
        "2. Reviewer : Name of the Reviewer\n",
        "\n",
        "3. Review : Review Text\n",
        "\n",
        "4. Rating : Rating Provided by Reviewer\n",
        "\n",
        "5. MetaData : Reviewer Metadata - No. of Reviews and followers\n",
        "\n",
        "6. Time: Date and Time of Review\n",
        "\n",
        "7. Pictures : No. of pictures posted with review"
      ]
    },
    {
      "cell_type": "markdown",
      "source": [
        "# Importing all the important Librarys and Data set"
      ],
      "metadata": {
        "id": "PxQVVvMpfEZs"
      }
    },
    {
      "cell_type": "code",
      "source": [
        "#importing all the important librarys\n",
        "import pandas as pd\n",
        "import numpy as np\n",
        "import matplotlib.pyplot as plt\n",
        "import seaborn as sns\n",
        "import math\n",
        "import time\n",
        "#from fuzzywuzzy import process, fuzz"
      ],
      "metadata": {
        "id": "SOLyK4nynliZ"
      },
      "execution_count": 295,
      "outputs": []
    },
    {
      "cell_type": "code",
      "source": [
        "#To suppres scientific notation.\n",
        "pd.options.display.float_format = '{:.2f}'.format \n",
        "\n",
        "pd.set_option('display.max_columns', None)"
      ],
      "metadata": {
        "id": "9MPBYqAOdGNa"
      },
      "execution_count": 296,
      "outputs": []
    },
    {
      "cell_type": "code",
      "source": [
        "# Mounting the Google Drive folders to google colab notebook\n",
        "from google.colab import drive\n",
        "drive.mount('/content/drive')"
      ],
      "metadata": {
        "id": "WVDUEk1Eno6B",
        "colab": {
          "base_uri": "https://localhost:8080/"
        },
        "outputId": "3b01565f-2da9-4524-f1eb-7b60b4355342"
      },
      "execution_count": 297,
      "outputs": [
        {
          "output_type": "stream",
          "name": "stdout",
          "text": [
            "Drive already mounted at /content/drive; to attempt to forcibly remount, call drive.mount(\"/content/drive\", force_remount=True).\n"
          ]
        }
      ]
    },
    {
      "cell_type": "code",
      "source": [
        "meta_df = pd.read_csv('https://raw.githubusercontent.com/NaithaniAR/ZOMATO-RESTAURANT-CLUSTERING-AND-SENTIMENT-ANALYSIS/main/Zomato%20Restaurant%20names%20and%20Metadata.csv')\n",
        "reviews_df = pd.read_csv('https://raw.githubusercontent.com/NaithaniAR/ZOMATO-RESTAURANT-CLUSTERING-AND-SENTIMENT-ANALYSIS/main/Zomato%20Restaurant%20reviews.csv')"
      ],
      "metadata": {
        "id": "U-L_K83Paipb"
      },
      "execution_count": 298,
      "outputs": []
    },
    {
      "cell_type": "markdown",
      "source": [
        "---\n",
        "# Dataset inspection\n",
        "---"
      ],
      "metadata": {
        "id": "domUrSErcAh3"
      }
    },
    {
      "cell_type": "markdown",
      "metadata": {
        "id": "LZm8LndXM3kX"
      },
      "source": [
        "## Meta Data"
      ]
    },
    {
      "cell_type": "code",
      "metadata": {
        "colab": {
          "base_uri": "https://localhost:8080/",
          "height": 337
        },
        "id": "toQEMLQsocGX",
        "outputId": "33da8b19-0cfb-47b8-e01e-a054deebedc9"
      },
      "source": [
        "# to get the first five rows of the data set \n",
        "meta_df.head()"
      ],
      "execution_count": 299,
      "outputs": [
        {
          "output_type": "execute_result",
          "data": {
            "text/plain": [
              "                             Name  \\\n",
              "0                 Beyond Flavours   \n",
              "1                        Paradise   \n",
              "2                        Flechazo   \n",
              "3  Shah Ghouse Hotel & Restaurant   \n",
              "4      Over The Moon Brew Company   \n",
              "\n",
              "                                               Links   Cost  \\\n",
              "0  https://www.zomato.com/hyderabad/beyond-flavou...    800   \n",
              "1  https://www.zomato.com/hyderabad/paradise-gach...    800   \n",
              "2  https://www.zomato.com/hyderabad/flechazo-gach...  1,300   \n",
              "3  https://www.zomato.com/hyderabad/shah-ghouse-h...    800   \n",
              "4  https://www.zomato.com/hyderabad/over-the-moon...  1,200   \n",
              "\n",
              "                                         Collections  \\\n",
              "0  Food Hygiene Rated Restaurants in Hyderabad, C...   \n",
              "1                                Hyderabad's Hottest   \n",
              "2                 Great Buffets, Hyderabad's Hottest   \n",
              "3                             Late Night Restaurants   \n",
              "4  Best Bars & Pubs, Food Hygiene Rated Restauran...   \n",
              "\n",
              "                                            Cuisines  \\\n",
              "0  Chinese, Continental, Kebab, European, South I...   \n",
              "1                     Biryani, North Indian, Chinese   \n",
              "2       Asian, Mediterranean, North Indian, Desserts   \n",
              "3  Biryani, North Indian, Chinese, Seafood, Bever...   \n",
              "4  Asian, Continental, North Indian, Chinese, Med...   \n",
              "\n",
              "                                             Timings  \n",
              "0      12noon to 3:30pm, 6:30pm to 11:30pm (Mon-Sun)  \n",
              "1                                     11 AM to 11 PM  \n",
              "2              11:30 AM to 4:30 PM, 6:30 PM to 11 PM  \n",
              "3                                    12 Noon to 2 AM  \n",
              "4  12noon to 11pm (Mon, Tue, Wed, Thu, Sun), 12no...  "
            ],
            "text/html": [
              "\n",
              "  <div id=\"df-f574c7a7-f7ff-4b5a-8419-3d644644d4ce\">\n",
              "    <div class=\"colab-df-container\">\n",
              "      <div>\n",
              "<style scoped>\n",
              "    .dataframe tbody tr th:only-of-type {\n",
              "        vertical-align: middle;\n",
              "    }\n",
              "\n",
              "    .dataframe tbody tr th {\n",
              "        vertical-align: top;\n",
              "    }\n",
              "\n",
              "    .dataframe thead th {\n",
              "        text-align: right;\n",
              "    }\n",
              "</style>\n",
              "<table border=\"1\" class=\"dataframe\">\n",
              "  <thead>\n",
              "    <tr style=\"text-align: right;\">\n",
              "      <th></th>\n",
              "      <th>Name</th>\n",
              "      <th>Links</th>\n",
              "      <th>Cost</th>\n",
              "      <th>Collections</th>\n",
              "      <th>Cuisines</th>\n",
              "      <th>Timings</th>\n",
              "    </tr>\n",
              "  </thead>\n",
              "  <tbody>\n",
              "    <tr>\n",
              "      <th>0</th>\n",
              "      <td>Beyond Flavours</td>\n",
              "      <td>https://www.zomato.com/hyderabad/beyond-flavou...</td>\n",
              "      <td>800</td>\n",
              "      <td>Food Hygiene Rated Restaurants in Hyderabad, C...</td>\n",
              "      <td>Chinese, Continental, Kebab, European, South I...</td>\n",
              "      <td>12noon to 3:30pm, 6:30pm to 11:30pm (Mon-Sun)</td>\n",
              "    </tr>\n",
              "    <tr>\n",
              "      <th>1</th>\n",
              "      <td>Paradise</td>\n",
              "      <td>https://www.zomato.com/hyderabad/paradise-gach...</td>\n",
              "      <td>800</td>\n",
              "      <td>Hyderabad's Hottest</td>\n",
              "      <td>Biryani, North Indian, Chinese</td>\n",
              "      <td>11 AM to 11 PM</td>\n",
              "    </tr>\n",
              "    <tr>\n",
              "      <th>2</th>\n",
              "      <td>Flechazo</td>\n",
              "      <td>https://www.zomato.com/hyderabad/flechazo-gach...</td>\n",
              "      <td>1,300</td>\n",
              "      <td>Great Buffets, Hyderabad's Hottest</td>\n",
              "      <td>Asian, Mediterranean, North Indian, Desserts</td>\n",
              "      <td>11:30 AM to 4:30 PM, 6:30 PM to 11 PM</td>\n",
              "    </tr>\n",
              "    <tr>\n",
              "      <th>3</th>\n",
              "      <td>Shah Ghouse Hotel &amp; Restaurant</td>\n",
              "      <td>https://www.zomato.com/hyderabad/shah-ghouse-h...</td>\n",
              "      <td>800</td>\n",
              "      <td>Late Night Restaurants</td>\n",
              "      <td>Biryani, North Indian, Chinese, Seafood, Bever...</td>\n",
              "      <td>12 Noon to 2 AM</td>\n",
              "    </tr>\n",
              "    <tr>\n",
              "      <th>4</th>\n",
              "      <td>Over The Moon Brew Company</td>\n",
              "      <td>https://www.zomato.com/hyderabad/over-the-moon...</td>\n",
              "      <td>1,200</td>\n",
              "      <td>Best Bars &amp; Pubs, Food Hygiene Rated Restauran...</td>\n",
              "      <td>Asian, Continental, North Indian, Chinese, Med...</td>\n",
              "      <td>12noon to 11pm (Mon, Tue, Wed, Thu, Sun), 12no...</td>\n",
              "    </tr>\n",
              "  </tbody>\n",
              "</table>\n",
              "</div>\n",
              "      <button class=\"colab-df-convert\" onclick=\"convertToInteractive('df-f574c7a7-f7ff-4b5a-8419-3d644644d4ce')\"\n",
              "              title=\"Convert this dataframe to an interactive table.\"\n",
              "              style=\"display:none;\">\n",
              "        \n",
              "  <svg xmlns=\"http://www.w3.org/2000/svg\" height=\"24px\"viewBox=\"0 0 24 24\"\n",
              "       width=\"24px\">\n",
              "    <path d=\"M0 0h24v24H0V0z\" fill=\"none\"/>\n",
              "    <path d=\"M18.56 5.44l.94 2.06.94-2.06 2.06-.94-2.06-.94-.94-2.06-.94 2.06-2.06.94zm-11 1L8.5 8.5l.94-2.06 2.06-.94-2.06-.94L8.5 2.5l-.94 2.06-2.06.94zm10 10l.94 2.06.94-2.06 2.06-.94-2.06-.94-.94-2.06-.94 2.06-2.06.94z\"/><path d=\"M17.41 7.96l-1.37-1.37c-.4-.4-.92-.59-1.43-.59-.52 0-1.04.2-1.43.59L10.3 9.45l-7.72 7.72c-.78.78-.78 2.05 0 2.83L4 21.41c.39.39.9.59 1.41.59.51 0 1.02-.2 1.41-.59l7.78-7.78 2.81-2.81c.8-.78.8-2.07 0-2.86zM5.41 20L4 18.59l7.72-7.72 1.47 1.35L5.41 20z\"/>\n",
              "  </svg>\n",
              "      </button>\n",
              "      \n",
              "  <style>\n",
              "    .colab-df-container {\n",
              "      display:flex;\n",
              "      flex-wrap:wrap;\n",
              "      gap: 12px;\n",
              "    }\n",
              "\n",
              "    .colab-df-convert {\n",
              "      background-color: #E8F0FE;\n",
              "      border: none;\n",
              "      border-radius: 50%;\n",
              "      cursor: pointer;\n",
              "      display: none;\n",
              "      fill: #1967D2;\n",
              "      height: 32px;\n",
              "      padding: 0 0 0 0;\n",
              "      width: 32px;\n",
              "    }\n",
              "\n",
              "    .colab-df-convert:hover {\n",
              "      background-color: #E2EBFA;\n",
              "      box-shadow: 0px 1px 2px rgba(60, 64, 67, 0.3), 0px 1px 3px 1px rgba(60, 64, 67, 0.15);\n",
              "      fill: #174EA6;\n",
              "    }\n",
              "\n",
              "    [theme=dark] .colab-df-convert {\n",
              "      background-color: #3B4455;\n",
              "      fill: #D2E3FC;\n",
              "    }\n",
              "\n",
              "    [theme=dark] .colab-df-convert:hover {\n",
              "      background-color: #434B5C;\n",
              "      box-shadow: 0px 1px 3px 1px rgba(0, 0, 0, 0.15);\n",
              "      filter: drop-shadow(0px 1px 2px rgba(0, 0, 0, 0.3));\n",
              "      fill: #FFFFFF;\n",
              "    }\n",
              "  </style>\n",
              "\n",
              "      <script>\n",
              "        const buttonEl =\n",
              "          document.querySelector('#df-f574c7a7-f7ff-4b5a-8419-3d644644d4ce button.colab-df-convert');\n",
              "        buttonEl.style.display =\n",
              "          google.colab.kernel.accessAllowed ? 'block' : 'none';\n",
              "\n",
              "        async function convertToInteractive(key) {\n",
              "          const element = document.querySelector('#df-f574c7a7-f7ff-4b5a-8419-3d644644d4ce');\n",
              "          const dataTable =\n",
              "            await google.colab.kernel.invokeFunction('convertToInteractive',\n",
              "                                                     [key], {});\n",
              "          if (!dataTable) return;\n",
              "\n",
              "          const docLinkHtml = 'Like what you see? Visit the ' +\n",
              "            '<a target=\"_blank\" href=https://colab.research.google.com/notebooks/data_table.ipynb>data table notebook</a>'\n",
              "            + ' to learn more about interactive tables.';\n",
              "          element.innerHTML = '';\n",
              "          dataTable['output_type'] = 'display_data';\n",
              "          await google.colab.output.renderOutput(dataTable, element);\n",
              "          const docLink = document.createElement('div');\n",
              "          docLink.innerHTML = docLinkHtml;\n",
              "          element.appendChild(docLink);\n",
              "        }\n",
              "      </script>\n",
              "    </div>\n",
              "  </div>\n",
              "  "
            ]
          },
          "metadata": {},
          "execution_count": 299
        }
      ]
    },
    {
      "cell_type": "code",
      "metadata": {
        "colab": {
          "base_uri": "https://localhost:8080/"
        },
        "id": "od-lt9aRoG30",
        "outputId": "f073d108-2ee6-494b-d394-9aea9e93fcae"
      },
      "source": [
        "# to get the information about the data\n",
        "meta_df.info()"
      ],
      "execution_count": 300,
      "outputs": [
        {
          "output_type": "stream",
          "name": "stdout",
          "text": [
            "<class 'pandas.core.frame.DataFrame'>\n",
            "RangeIndex: 105 entries, 0 to 104\n",
            "Data columns (total 6 columns):\n",
            " #   Column       Non-Null Count  Dtype \n",
            "---  ------       --------------  ----- \n",
            " 0   Name         105 non-null    object\n",
            " 1   Links        105 non-null    object\n",
            " 2   Cost         105 non-null    object\n",
            " 3   Collections  51 non-null     object\n",
            " 4   Cuisines     105 non-null    object\n",
            " 5   Timings      104 non-null    object\n",
            "dtypes: object(6)\n",
            "memory usage: 5.0+ KB\n"
          ]
        }
      ]
    },
    {
      "cell_type": "code",
      "metadata": {
        "colab": {
          "base_uri": "https://localhost:8080/"
        },
        "id": "rSrUxDnYoQn5",
        "outputId": "d6556fde-e8f0-44f5-8ec6-775e6fdf4bed"
      },
      "source": [
        "# finding the count of null values\n",
        "meta_df.isnull().sum()"
      ],
      "execution_count": 301,
      "outputs": [
        {
          "output_type": "execute_result",
          "data": {
            "text/plain": [
              "Name            0\n",
              "Links           0\n",
              "Cost            0\n",
              "Collections    54\n",
              "Cuisines        0\n",
              "Timings         1\n",
              "dtype: int64"
            ]
          },
          "metadata": {},
          "execution_count": 301
        }
      ]
    },
    {
      "cell_type": "code",
      "metadata": {
        "colab": {
          "base_uri": "https://localhost:8080/",
          "height": 237
        },
        "id": "uBO4JP2fZHie",
        "outputId": "71c40745-bcb1-43ae-9b13-0639c2e87655"
      },
      "source": [
        "# to get the description of the data\n",
        "meta_df.describe().transpose()"
      ],
      "execution_count": 302,
      "outputs": [
        {
          "output_type": "execute_result",
          "data": {
            "text/plain": [
              "            count unique                                                top  \\\n",
              "Name          105    105                                    Beyond Flavours   \n",
              "Links         105    105  https://www.zomato.com/hyderabad/beyond-flavou...   \n",
              "Cost          105     29                                                500   \n",
              "Collections    51     42        Food Hygiene Rated Restaurants in Hyderabad   \n",
              "Cuisines      105     92                              North Indian, Chinese   \n",
              "Timings       104     77                                     11 AM to 11 PM   \n",
              "\n",
              "            freq  \n",
              "Name           1  \n",
              "Links          1  \n",
              "Cost          13  \n",
              "Collections    4  \n",
              "Cuisines       4  \n",
              "Timings        6  "
            ],
            "text/html": [
              "\n",
              "  <div id=\"df-c5027cec-130c-434d-93b4-51c01b86b441\">\n",
              "    <div class=\"colab-df-container\">\n",
              "      <div>\n",
              "<style scoped>\n",
              "    .dataframe tbody tr th:only-of-type {\n",
              "        vertical-align: middle;\n",
              "    }\n",
              "\n",
              "    .dataframe tbody tr th {\n",
              "        vertical-align: top;\n",
              "    }\n",
              "\n",
              "    .dataframe thead th {\n",
              "        text-align: right;\n",
              "    }\n",
              "</style>\n",
              "<table border=\"1\" class=\"dataframe\">\n",
              "  <thead>\n",
              "    <tr style=\"text-align: right;\">\n",
              "      <th></th>\n",
              "      <th>count</th>\n",
              "      <th>unique</th>\n",
              "      <th>top</th>\n",
              "      <th>freq</th>\n",
              "    </tr>\n",
              "  </thead>\n",
              "  <tbody>\n",
              "    <tr>\n",
              "      <th>Name</th>\n",
              "      <td>105</td>\n",
              "      <td>105</td>\n",
              "      <td>Beyond Flavours</td>\n",
              "      <td>1</td>\n",
              "    </tr>\n",
              "    <tr>\n",
              "      <th>Links</th>\n",
              "      <td>105</td>\n",
              "      <td>105</td>\n",
              "      <td>https://www.zomato.com/hyderabad/beyond-flavou...</td>\n",
              "      <td>1</td>\n",
              "    </tr>\n",
              "    <tr>\n",
              "      <th>Cost</th>\n",
              "      <td>105</td>\n",
              "      <td>29</td>\n",
              "      <td>500</td>\n",
              "      <td>13</td>\n",
              "    </tr>\n",
              "    <tr>\n",
              "      <th>Collections</th>\n",
              "      <td>51</td>\n",
              "      <td>42</td>\n",
              "      <td>Food Hygiene Rated Restaurants in Hyderabad</td>\n",
              "      <td>4</td>\n",
              "    </tr>\n",
              "    <tr>\n",
              "      <th>Cuisines</th>\n",
              "      <td>105</td>\n",
              "      <td>92</td>\n",
              "      <td>North Indian, Chinese</td>\n",
              "      <td>4</td>\n",
              "    </tr>\n",
              "    <tr>\n",
              "      <th>Timings</th>\n",
              "      <td>104</td>\n",
              "      <td>77</td>\n",
              "      <td>11 AM to 11 PM</td>\n",
              "      <td>6</td>\n",
              "    </tr>\n",
              "  </tbody>\n",
              "</table>\n",
              "</div>\n",
              "      <button class=\"colab-df-convert\" onclick=\"convertToInteractive('df-c5027cec-130c-434d-93b4-51c01b86b441')\"\n",
              "              title=\"Convert this dataframe to an interactive table.\"\n",
              "              style=\"display:none;\">\n",
              "        \n",
              "  <svg xmlns=\"http://www.w3.org/2000/svg\" height=\"24px\"viewBox=\"0 0 24 24\"\n",
              "       width=\"24px\">\n",
              "    <path d=\"M0 0h24v24H0V0z\" fill=\"none\"/>\n",
              "    <path d=\"M18.56 5.44l.94 2.06.94-2.06 2.06-.94-2.06-.94-.94-2.06-.94 2.06-2.06.94zm-11 1L8.5 8.5l.94-2.06 2.06-.94-2.06-.94L8.5 2.5l-.94 2.06-2.06.94zm10 10l.94 2.06.94-2.06 2.06-.94-2.06-.94-.94-2.06-.94 2.06-2.06.94z\"/><path d=\"M17.41 7.96l-1.37-1.37c-.4-.4-.92-.59-1.43-.59-.52 0-1.04.2-1.43.59L10.3 9.45l-7.72 7.72c-.78.78-.78 2.05 0 2.83L4 21.41c.39.39.9.59 1.41.59.51 0 1.02-.2 1.41-.59l7.78-7.78 2.81-2.81c.8-.78.8-2.07 0-2.86zM5.41 20L4 18.59l7.72-7.72 1.47 1.35L5.41 20z\"/>\n",
              "  </svg>\n",
              "      </button>\n",
              "      \n",
              "  <style>\n",
              "    .colab-df-container {\n",
              "      display:flex;\n",
              "      flex-wrap:wrap;\n",
              "      gap: 12px;\n",
              "    }\n",
              "\n",
              "    .colab-df-convert {\n",
              "      background-color: #E8F0FE;\n",
              "      border: none;\n",
              "      border-radius: 50%;\n",
              "      cursor: pointer;\n",
              "      display: none;\n",
              "      fill: #1967D2;\n",
              "      height: 32px;\n",
              "      padding: 0 0 0 0;\n",
              "      width: 32px;\n",
              "    }\n",
              "\n",
              "    .colab-df-convert:hover {\n",
              "      background-color: #E2EBFA;\n",
              "      box-shadow: 0px 1px 2px rgba(60, 64, 67, 0.3), 0px 1px 3px 1px rgba(60, 64, 67, 0.15);\n",
              "      fill: #174EA6;\n",
              "    }\n",
              "\n",
              "    [theme=dark] .colab-df-convert {\n",
              "      background-color: #3B4455;\n",
              "      fill: #D2E3FC;\n",
              "    }\n",
              "\n",
              "    [theme=dark] .colab-df-convert:hover {\n",
              "      background-color: #434B5C;\n",
              "      box-shadow: 0px 1px 3px 1px rgba(0, 0, 0, 0.15);\n",
              "      filter: drop-shadow(0px 1px 2px rgba(0, 0, 0, 0.3));\n",
              "      fill: #FFFFFF;\n",
              "    }\n",
              "  </style>\n",
              "\n",
              "      <script>\n",
              "        const buttonEl =\n",
              "          document.querySelector('#df-c5027cec-130c-434d-93b4-51c01b86b441 button.colab-df-convert');\n",
              "        buttonEl.style.display =\n",
              "          google.colab.kernel.accessAllowed ? 'block' : 'none';\n",
              "\n",
              "        async function convertToInteractive(key) {\n",
              "          const element = document.querySelector('#df-c5027cec-130c-434d-93b4-51c01b86b441');\n",
              "          const dataTable =\n",
              "            await google.colab.kernel.invokeFunction('convertToInteractive',\n",
              "                                                     [key], {});\n",
              "          if (!dataTable) return;\n",
              "\n",
              "          const docLinkHtml = 'Like what you see? Visit the ' +\n",
              "            '<a target=\"_blank\" href=https://colab.research.google.com/notebooks/data_table.ipynb>data table notebook</a>'\n",
              "            + ' to learn more about interactive tables.';\n",
              "          element.innerHTML = '';\n",
              "          dataTable['output_type'] = 'display_data';\n",
              "          await google.colab.output.renderOutput(dataTable, element);\n",
              "          const docLink = document.createElement('div');\n",
              "          docLink.innerHTML = docLinkHtml;\n",
              "          element.appendChild(docLink);\n",
              "        }\n",
              "      </script>\n",
              "    </div>\n",
              "  </div>\n",
              "  "
            ]
          },
          "metadata": {},
          "execution_count": 302
        }
      ]
    },
    {
      "cell_type": "code",
      "metadata": {
        "colab": {
          "base_uri": "https://localhost:8080/"
        },
        "id": "CJDDbBFEYPv-",
        "outputId": "3482e8cd-7403-4b5e-860b-6df64c2b49e5"
      },
      "source": [
        "#checking for duplicate entries\n",
        "print('duplicates in entries = ',len(meta_df)-len(meta_df.drop_duplicates()))\n",
        "print('duplicates in Restaurant Name = ',len(meta_df['Name'])-len(meta_df['Name'].drop_duplicates()))"
      ],
      "execution_count": 303,
      "outputs": [
        {
          "output_type": "stream",
          "name": "stdout",
          "text": [
            "duplicates in entries =  0\n",
            "duplicates in Restaurant Name =  0\n"
          ]
        }
      ]
    },
    {
      "cell_type": "markdown",
      "source": [
        "**Web Scraping**\n",
        "\n",
        "There is a column with links to the zomato resturaunt of which the data is given. [Here ](https://colab.research.google.com/drive/1_l92E1d286rR8IJs3kzvq_TZy5wIOGV4#scrollTo=xwxi9maFzvg_) we will scrape data from zomato and update our meta data. \n"
      ],
      "metadata": {
        "id": "dxFnq--7cpb3"
      }
    },
    {
      "cell_type": "code",
      "source": [
        "# reading the dataframe from the csv file again to import the scraped data from the already prepared csv file\n",
        "\n",
        "meta_df = pd.read_csv('https://raw.githubusercontent.com/NaithaniAR/ZOMATO-RESTAURANT-CLUSTERING-AND-SENTIMENT-ANALYSIS/main/new_meta.csv')"
      ],
      "metadata": {
        "id": "rFGHJxYWeCMJ"
      },
      "execution_count": 304,
      "outputs": []
    },
    {
      "cell_type": "markdown",
      "metadata": {
        "id": "HgVMFnr0NnG1"
      },
      "source": [
        "## Reviews"
      ]
    },
    {
      "cell_type": "code",
      "metadata": {
        "colab": {
          "base_uri": "https://localhost:8080/",
          "height": 206
        },
        "id": "FLEaT6NYNudF",
        "outputId": "1b702dc9-8a8e-41ff-9116-d35251005519"
      },
      "source": [
        "# to get the first five rows of the data set \n",
        "reviews_df.head()"
      ],
      "execution_count": 305,
      "outputs": [
        {
          "output_type": "execute_result",
          "data": {
            "text/plain": [
              "        Restaurant              Reviewer  \\\n",
              "0  Beyond Flavours     Rusha Chakraborty   \n",
              "1  Beyond Flavours  Anusha Tirumalaneedi   \n",
              "2  Beyond Flavours       Ashok Shekhawat   \n",
              "3  Beyond Flavours        Swapnil Sarkar   \n",
              "4  Beyond Flavours                Dileep   \n",
              "\n",
              "                                              Review Rating  \\\n",
              "0  The ambience was good, food was quite good . h...      5   \n",
              "1  Ambience is too good for a pleasant evening. S...      5   \n",
              "2  A must try.. great food great ambience. Thnx f...      5   \n",
              "3  Soumen das and Arun was a great guy. Only beca...      5   \n",
              "4  Food is good.we ordered Kodi drumsticks and ba...      5   \n",
              "\n",
              "                  Metadata             Time  Pictures  \n",
              "0   1 Review , 2 Followers  5/25/2019 15:54         0  \n",
              "1  3 Reviews , 2 Followers  5/25/2019 14:20         0  \n",
              "2  2 Reviews , 3 Followers  5/24/2019 22:54         0  \n",
              "3    1 Review , 1 Follower  5/24/2019 22:11         0  \n",
              "4  3 Reviews , 2 Followers  5/24/2019 21:37         0  "
            ],
            "text/html": [
              "\n",
              "  <div id=\"df-e8975aad-3e24-4d4c-9953-4bf983dfe680\">\n",
              "    <div class=\"colab-df-container\">\n",
              "      <div>\n",
              "<style scoped>\n",
              "    .dataframe tbody tr th:only-of-type {\n",
              "        vertical-align: middle;\n",
              "    }\n",
              "\n",
              "    .dataframe tbody tr th {\n",
              "        vertical-align: top;\n",
              "    }\n",
              "\n",
              "    .dataframe thead th {\n",
              "        text-align: right;\n",
              "    }\n",
              "</style>\n",
              "<table border=\"1\" class=\"dataframe\">\n",
              "  <thead>\n",
              "    <tr style=\"text-align: right;\">\n",
              "      <th></th>\n",
              "      <th>Restaurant</th>\n",
              "      <th>Reviewer</th>\n",
              "      <th>Review</th>\n",
              "      <th>Rating</th>\n",
              "      <th>Metadata</th>\n",
              "      <th>Time</th>\n",
              "      <th>Pictures</th>\n",
              "    </tr>\n",
              "  </thead>\n",
              "  <tbody>\n",
              "    <tr>\n",
              "      <th>0</th>\n",
              "      <td>Beyond Flavours</td>\n",
              "      <td>Rusha Chakraborty</td>\n",
              "      <td>The ambience was good, food was quite good . h...</td>\n",
              "      <td>5</td>\n",
              "      <td>1 Review , 2 Followers</td>\n",
              "      <td>5/25/2019 15:54</td>\n",
              "      <td>0</td>\n",
              "    </tr>\n",
              "    <tr>\n",
              "      <th>1</th>\n",
              "      <td>Beyond Flavours</td>\n",
              "      <td>Anusha Tirumalaneedi</td>\n",
              "      <td>Ambience is too good for a pleasant evening. S...</td>\n",
              "      <td>5</td>\n",
              "      <td>3 Reviews , 2 Followers</td>\n",
              "      <td>5/25/2019 14:20</td>\n",
              "      <td>0</td>\n",
              "    </tr>\n",
              "    <tr>\n",
              "      <th>2</th>\n",
              "      <td>Beyond Flavours</td>\n",
              "      <td>Ashok Shekhawat</td>\n",
              "      <td>A must try.. great food great ambience. Thnx f...</td>\n",
              "      <td>5</td>\n",
              "      <td>2 Reviews , 3 Followers</td>\n",
              "      <td>5/24/2019 22:54</td>\n",
              "      <td>0</td>\n",
              "    </tr>\n",
              "    <tr>\n",
              "      <th>3</th>\n",
              "      <td>Beyond Flavours</td>\n",
              "      <td>Swapnil Sarkar</td>\n",
              "      <td>Soumen das and Arun was a great guy. Only beca...</td>\n",
              "      <td>5</td>\n",
              "      <td>1 Review , 1 Follower</td>\n",
              "      <td>5/24/2019 22:11</td>\n",
              "      <td>0</td>\n",
              "    </tr>\n",
              "    <tr>\n",
              "      <th>4</th>\n",
              "      <td>Beyond Flavours</td>\n",
              "      <td>Dileep</td>\n",
              "      <td>Food is good.we ordered Kodi drumsticks and ba...</td>\n",
              "      <td>5</td>\n",
              "      <td>3 Reviews , 2 Followers</td>\n",
              "      <td>5/24/2019 21:37</td>\n",
              "      <td>0</td>\n",
              "    </tr>\n",
              "  </tbody>\n",
              "</table>\n",
              "</div>\n",
              "      <button class=\"colab-df-convert\" onclick=\"convertToInteractive('df-e8975aad-3e24-4d4c-9953-4bf983dfe680')\"\n",
              "              title=\"Convert this dataframe to an interactive table.\"\n",
              "              style=\"display:none;\">\n",
              "        \n",
              "  <svg xmlns=\"http://www.w3.org/2000/svg\" height=\"24px\"viewBox=\"0 0 24 24\"\n",
              "       width=\"24px\">\n",
              "    <path d=\"M0 0h24v24H0V0z\" fill=\"none\"/>\n",
              "    <path d=\"M18.56 5.44l.94 2.06.94-2.06 2.06-.94-2.06-.94-.94-2.06-.94 2.06-2.06.94zm-11 1L8.5 8.5l.94-2.06 2.06-.94-2.06-.94L8.5 2.5l-.94 2.06-2.06.94zm10 10l.94 2.06.94-2.06 2.06-.94-2.06-.94-.94-2.06-.94 2.06-2.06.94z\"/><path d=\"M17.41 7.96l-1.37-1.37c-.4-.4-.92-.59-1.43-.59-.52 0-1.04.2-1.43.59L10.3 9.45l-7.72 7.72c-.78.78-.78 2.05 0 2.83L4 21.41c.39.39.9.59 1.41.59.51 0 1.02-.2 1.41-.59l7.78-7.78 2.81-2.81c.8-.78.8-2.07 0-2.86zM5.41 20L4 18.59l7.72-7.72 1.47 1.35L5.41 20z\"/>\n",
              "  </svg>\n",
              "      </button>\n",
              "      \n",
              "  <style>\n",
              "    .colab-df-container {\n",
              "      display:flex;\n",
              "      flex-wrap:wrap;\n",
              "      gap: 12px;\n",
              "    }\n",
              "\n",
              "    .colab-df-convert {\n",
              "      background-color: #E8F0FE;\n",
              "      border: none;\n",
              "      border-radius: 50%;\n",
              "      cursor: pointer;\n",
              "      display: none;\n",
              "      fill: #1967D2;\n",
              "      height: 32px;\n",
              "      padding: 0 0 0 0;\n",
              "      width: 32px;\n",
              "    }\n",
              "\n",
              "    .colab-df-convert:hover {\n",
              "      background-color: #E2EBFA;\n",
              "      box-shadow: 0px 1px 2px rgba(60, 64, 67, 0.3), 0px 1px 3px 1px rgba(60, 64, 67, 0.15);\n",
              "      fill: #174EA6;\n",
              "    }\n",
              "\n",
              "    [theme=dark] .colab-df-convert {\n",
              "      background-color: #3B4455;\n",
              "      fill: #D2E3FC;\n",
              "    }\n",
              "\n",
              "    [theme=dark] .colab-df-convert:hover {\n",
              "      background-color: #434B5C;\n",
              "      box-shadow: 0px 1px 3px 1px rgba(0, 0, 0, 0.15);\n",
              "      filter: drop-shadow(0px 1px 2px rgba(0, 0, 0, 0.3));\n",
              "      fill: #FFFFFF;\n",
              "    }\n",
              "  </style>\n",
              "\n",
              "      <script>\n",
              "        const buttonEl =\n",
              "          document.querySelector('#df-e8975aad-3e24-4d4c-9953-4bf983dfe680 button.colab-df-convert');\n",
              "        buttonEl.style.display =\n",
              "          google.colab.kernel.accessAllowed ? 'block' : 'none';\n",
              "\n",
              "        async function convertToInteractive(key) {\n",
              "          const element = document.querySelector('#df-e8975aad-3e24-4d4c-9953-4bf983dfe680');\n",
              "          const dataTable =\n",
              "            await google.colab.kernel.invokeFunction('convertToInteractive',\n",
              "                                                     [key], {});\n",
              "          if (!dataTable) return;\n",
              "\n",
              "          const docLinkHtml = 'Like what you see? Visit the ' +\n",
              "            '<a target=\"_blank\" href=https://colab.research.google.com/notebooks/data_table.ipynb>data table notebook</a>'\n",
              "            + ' to learn more about interactive tables.';\n",
              "          element.innerHTML = '';\n",
              "          dataTable['output_type'] = 'display_data';\n",
              "          await google.colab.output.renderOutput(dataTable, element);\n",
              "          const docLink = document.createElement('div');\n",
              "          docLink.innerHTML = docLinkHtml;\n",
              "          element.appendChild(docLink);\n",
              "        }\n",
              "      </script>\n",
              "    </div>\n",
              "  </div>\n",
              "  "
            ]
          },
          "metadata": {},
          "execution_count": 305
        }
      ]
    },
    {
      "cell_type": "code",
      "metadata": {
        "colab": {
          "base_uri": "https://localhost:8080/"
        },
        "id": "ABrSamSxNudG",
        "outputId": "ec482a63-d7b5-4e9b-9377-0688ebb7433a"
      },
      "source": [
        "# to get the information about the data\n",
        "reviews_df.info()"
      ],
      "execution_count": 306,
      "outputs": [
        {
          "output_type": "stream",
          "name": "stdout",
          "text": [
            "<class 'pandas.core.frame.DataFrame'>\n",
            "RangeIndex: 10000 entries, 0 to 9999\n",
            "Data columns (total 7 columns):\n",
            " #   Column      Non-Null Count  Dtype \n",
            "---  ------      --------------  ----- \n",
            " 0   Restaurant  10000 non-null  object\n",
            " 1   Reviewer    9962 non-null   object\n",
            " 2   Review      9955 non-null   object\n",
            " 3   Rating      9962 non-null   object\n",
            " 4   Metadata    9962 non-null   object\n",
            " 5   Time        9962 non-null   object\n",
            " 6   Pictures    10000 non-null  int64 \n",
            "dtypes: int64(1), object(6)\n",
            "memory usage: 547.0+ KB\n"
          ]
        }
      ]
    },
    {
      "cell_type": "code",
      "metadata": {
        "colab": {
          "base_uri": "https://localhost:8080/"
        },
        "id": "KNw5zNR7NudH",
        "outputId": "23d70e60-083f-4d47-e993-56eaf823ebb2"
      },
      "source": [
        "# finding the count of null values\n",
        "reviews_df.isnull().sum()"
      ],
      "execution_count": 307,
      "outputs": [
        {
          "output_type": "execute_result",
          "data": {
            "text/plain": [
              "Restaurant     0\n",
              "Reviewer      38\n",
              "Review        45\n",
              "Rating        38\n",
              "Metadata      38\n",
              "Time          38\n",
              "Pictures       0\n",
              "dtype: int64"
            ]
          },
          "metadata": {},
          "execution_count": 307
        }
      ]
    },
    {
      "cell_type": "markdown",
      "source": [
        "# Analysis "
      ],
      "metadata": {
        "id": "1ryay3DNfbCx"
      }
    },
    {
      "cell_type": "markdown",
      "source": [
        "Defined Functions \n"
      ],
      "metadata": {
        "id": "YaE5z5w0T766"
      }
    },
    {
      "cell_type": "code",
      "source": [
        "def Row_lis(DataFrame,Column_name):\n",
        "\n",
        " '''\n",
        " Convert a Row in a data frame into a list of unique elements \n",
        "\n",
        " '''\n",
        " a = [Column_name]\n",
        "\n",
        " #Dropping na values from the dataframe \n",
        "\n",
        " non_na= DataFrame.dropna()\n",
        "\n",
        " # Getting values into a list  \n",
        " arr = non_na[a].to_numpy()\n",
        "\n",
        "\n",
        " '''\n",
        " Reducing the dimensionality of a list \n",
        " '''\n",
        " flat_ls = []\n",
        " for i in arr:\n",
        "  for j in i:\n",
        "    for k in j:\n",
        "     flat_ls.append(k)\n",
        "\n",
        " '''\n",
        " Spliting the remaing strings \n",
        "\n",
        " '''\n",
        "\n",
        " mylis=Elements=[s.strip() for sub in flat_ls for s in sub.split(',') if s]\n",
        " Elements=mylis\n",
        " print('List size:', len(Elements) )\n",
        " Elements = pd.DataFrame(Elements, columns = [a])\n",
        "\n",
        " \n",
        " return Elements,mylis\n",
        "\n",
        "\n",
        "\n",
        "def Row_lis2(DataFrame,Column_name):\n",
        "\n",
        " '''\n",
        " Convert a Row in a data frame into a list of unique elements \n",
        "\n",
        " '''\n",
        " a = [Column_name]\n",
        "\n",
        " #Dropping na values from the dataframe \n",
        "\n",
        " non_na= DataFrame.dropna()\n",
        "\n",
        " # Getting values into a list  \n",
        " arr = non_na[a].to_numpy()\n",
        "\n",
        "\n",
        " '''\n",
        " Reducing the dimensionality of a list \n",
        " '''\n",
        " flat_ls = []\n",
        " for i in arr:\n",
        "  for j in i:\n",
        "   flat_ls.append(j)\n",
        "\n",
        " '''\n",
        " Spliting the remaing strings \n",
        "\n",
        " '''\n",
        " \n",
        " mylis=[s.strip() for sub in flat_ls for s in sub.split(',') if s]\n",
        "\n",
        " Elements=mylis\n",
        " print('List size:', len(Elements) )\n",
        " Elements = pd.DataFrame(Elements, columns = [a])\n",
        "\n",
        " \n",
        " return Elements,mylis\n",
        "\n",
        "def Row_lis3(DataFrame,Column_name):\n",
        "\n",
        " '''\n",
        " Convert a Row in a data frame into a list of unique elements \n",
        "\n",
        " '''\n",
        " a = [Column_name]\n",
        " '''\n",
        " Dropping na values from the dataframe \n",
        " '''\n",
        " #non_na= DataFrame.dropna()\n",
        "\n",
        "\n",
        " ''' \n",
        " find the index no\n",
        " '''\n",
        " #b = DataFrame.columns.get_loc(a)\n",
        " '''\n",
        " Getting values into a Srting\n",
        " '''\n",
        "\n",
        " x=0\n",
        " Elements=''\n",
        " for x in range(0,len(meta_df)):\n",
        "  b= str(meta_df.iloc[x][9]).replace('[','').replace(']','').replace('\\'','').replace('\\\"','')\n",
        "  Elements=Elements + b\n",
        "  x+=1\n",
        "\n",
        " '''\n",
        " Spliting the remaing strings \n",
        "\n",
        " '''\n",
        "\n",
        " mylis= Elements.split(',')\n",
        " Elements = mylis\n",
        "\n",
        " print('List size:', len(Elements) )\n",
        "\n",
        " '''\n",
        " Converting the list into Pandas dataframe.\n",
        " '''\n",
        " Elements = pd.DataFrame(Elements, columns = [a])\n",
        "\n",
        " \n",
        " return Elements,mylis\n",
        "\n",
        "\n",
        "\n",
        "'''''\n",
        "Unuique list \n",
        "'''''\n",
        "\n",
        "\n",
        "def unique_list(input_list):\n",
        "     output_list = []\n",
        "     for word in input_list:\n",
        "         if word not in input_list:\n",
        "            output_list = [word]\n",
        "            return output_list\n",
        "\n",
        "'''\n",
        "  This function takes a dictionary of mapping with keys as the charecters to be replaced in a string and\n",
        "  the values as the characters to be replaced with\n",
        "'''\n",
        "\n",
        "def multiple_str_replaces(org_str,maps):\n",
        "\n",
        " for l,r in maps.items():\n",
        "   org_str = org_str.replace(l,r)\n",
        "   return org_str\n",
        "\n",
        "\n",
        "\n"
      ],
      "metadata": {
        "id": "4WiO0wDQT_8j"
      },
      "execution_count": 308,
      "outputs": []
    },
    {
      "cell_type": "markdown",
      "source": [
        "## Meta Data "
      ],
      "metadata": {
        "id": "mB1g31mYftS_"
      }
    },
    {
      "cell_type": "markdown",
      "source": [
        "Let us first explore the names of the column "
      ],
      "metadata": {
        "id": "oXdLVrann4Fo"
      }
    },
    {
      "cell_type": "code",
      "source": [
        "meta_df.columns"
      ],
      "metadata": {
        "colab": {
          "base_uri": "https://localhost:8080/"
        },
        "id": "JerN6o9YgdQK",
        "outputId": "d6f3961b-0510-44e0-df80-25c4e1062f47"
      },
      "execution_count": 309,
      "outputs": [
        {
          "output_type": "execute_result",
          "data": {
            "text/plain": [
              "Index(['Unnamed: 0', 'Name', 'Links', 'Cost', 'Collections', 'Cuisines',\n",
              "       'Timings', 'latitude', 'longitude', 'additional_services',\n",
              "       'Has_Featured', 'known_for', 'status', 'Popular_Dishes'],\n",
              "      dtype='object')"
            ]
          },
          "metadata": {},
          "execution_count": 309
        }
      ]
    },
    {
      "cell_type": "code",
      "source": [
        "meta_df = meta_df.drop(['Unnamed: 0'], axis =1)"
      ],
      "metadata": {
        "id": "kN9DMjgjfHv7"
      },
      "execution_count": 310,
      "outputs": []
    },
    {
      "cell_type": "markdown",
      "source": [
        "Q. Arrange the resturants in the df wrt. cost of one person."
      ],
      "metadata": {
        "id": "219_ggBBqLNt"
      }
    },
    {
      "cell_type": "code",
      "source": [
        "# Changing the Data Type of the 'Cost'\n",
        "\n",
        "meta_df['Cost'] = meta_df['Cost'].str.replace(\",\",\"\").astype('int64')"
      ],
      "metadata": {
        "id": "8YJI0q1EpWmk"
      },
      "execution_count": 311,
      "outputs": []
    },
    {
      "cell_type": "code",
      "source": [
        "meta_df.sort_values(by='Cost',ascending=False,inplace=True)\n"
      ],
      "metadata": {
        "id": "WQk61JEBqbP-"
      },
      "execution_count": 312,
      "outputs": []
    },
    {
      "cell_type": "code",
      "source": [
        "meta_df.reset_index(inplace=True)"
      ],
      "metadata": {
        "id": "5DTIWydyq2No"
      },
      "execution_count": 313,
      "outputs": []
    },
    {
      "cell_type": "code",
      "source": [
        "meta_df[['Cost', 'Name', 'Popular_Dishes']]"
      ],
      "metadata": {
        "colab": {
          "base_uri": "https://localhost:8080/",
          "height": 424
        },
        "id": "OBlZvFC4VIju",
        "outputId": "035dfb3d-8b5d-4d02-fef9-321eb9b01870"
      },
      "execution_count": 314,
      "outputs": [
        {
          "output_type": "execute_result",
          "data": {
            "text/plain": [
              "     Cost                                               Name  \\\n",
              "0    2800               Collage - Hyatt Hyderabad Gachibowli   \n",
              "1    2500                   Feast - Sheraton Hyderabad Hotel   \n",
              "2    1900  Jonathan's Kitchen - Holiday Inn Express & Suites   \n",
              "3    1900                                  10 Downing Street   \n",
              "4    1800            Cascade - Radisson Hyderabad Hitec City   \n",
              "..    ...                                                ...   \n",
              "100   200                                      Momos Delight   \n",
              "101   200                                 Hunger Maggi Point   \n",
              "102   200                                       Sweet Basket   \n",
              "103   150                                Mohammedia Shawarma   \n",
              "104   150                                               Amul   \n",
              "\n",
              "                                        Popular_Dishes  \n",
              "0    Sushi, Sunday Brunch, Pancakes, Salads, Desert...  \n",
              "1    Sushi, Dal Makhni, Pastries, Mocktails, Cheese...  \n",
              "2    Focaccia Al Pollo, Involtini Di Pollo, Jumbo P...  \n",
              "3    Chicken Burritos, Wheat Beer, Brewed Beer, Chi...  \n",
              "4    Croissant, Dinner Buffet, Sunday Brunch, Deser...  \n",
              "..                                                 ...  \n",
              "100                                                NaN  \n",
              "101                                                NaN  \n",
              "102  Barfi, Bengali Sweets, Raj Kachori, Jalebi, Pa...  \n",
              "103                                                NaN  \n",
              "104  Death by Chocolate, Thick Shakes, Icecream, Br...  \n",
              "\n",
              "[105 rows x 3 columns]"
            ],
            "text/html": [
              "\n",
              "  <div id=\"df-85393f2b-8de2-4a2c-a46f-50b72c0c1850\">\n",
              "    <div class=\"colab-df-container\">\n",
              "      <div>\n",
              "<style scoped>\n",
              "    .dataframe tbody tr th:only-of-type {\n",
              "        vertical-align: middle;\n",
              "    }\n",
              "\n",
              "    .dataframe tbody tr th {\n",
              "        vertical-align: top;\n",
              "    }\n",
              "\n",
              "    .dataframe thead th {\n",
              "        text-align: right;\n",
              "    }\n",
              "</style>\n",
              "<table border=\"1\" class=\"dataframe\">\n",
              "  <thead>\n",
              "    <tr style=\"text-align: right;\">\n",
              "      <th></th>\n",
              "      <th>Cost</th>\n",
              "      <th>Name</th>\n",
              "      <th>Popular_Dishes</th>\n",
              "    </tr>\n",
              "  </thead>\n",
              "  <tbody>\n",
              "    <tr>\n",
              "      <th>0</th>\n",
              "      <td>2800</td>\n",
              "      <td>Collage - Hyatt Hyderabad Gachibowli</td>\n",
              "      <td>Sushi, Sunday Brunch, Pancakes, Salads, Desert...</td>\n",
              "    </tr>\n",
              "    <tr>\n",
              "      <th>1</th>\n",
              "      <td>2500</td>\n",
              "      <td>Feast - Sheraton Hyderabad Hotel</td>\n",
              "      <td>Sushi, Dal Makhni, Pastries, Mocktails, Cheese...</td>\n",
              "    </tr>\n",
              "    <tr>\n",
              "      <th>2</th>\n",
              "      <td>1900</td>\n",
              "      <td>Jonathan's Kitchen - Holiday Inn Express &amp; Suites</td>\n",
              "      <td>Focaccia Al Pollo, Involtini Di Pollo, Jumbo P...</td>\n",
              "    </tr>\n",
              "    <tr>\n",
              "      <th>3</th>\n",
              "      <td>1900</td>\n",
              "      <td>10 Downing Street</td>\n",
              "      <td>Chicken Burritos, Wheat Beer, Brewed Beer, Chi...</td>\n",
              "    </tr>\n",
              "    <tr>\n",
              "      <th>4</th>\n",
              "      <td>1800</td>\n",
              "      <td>Cascade - Radisson Hyderabad Hitec City</td>\n",
              "      <td>Croissant, Dinner Buffet, Sunday Brunch, Deser...</td>\n",
              "    </tr>\n",
              "    <tr>\n",
              "      <th>...</th>\n",
              "      <td>...</td>\n",
              "      <td>...</td>\n",
              "      <td>...</td>\n",
              "    </tr>\n",
              "    <tr>\n",
              "      <th>100</th>\n",
              "      <td>200</td>\n",
              "      <td>Momos Delight</td>\n",
              "      <td>NaN</td>\n",
              "    </tr>\n",
              "    <tr>\n",
              "      <th>101</th>\n",
              "      <td>200</td>\n",
              "      <td>Hunger Maggi Point</td>\n",
              "      <td>NaN</td>\n",
              "    </tr>\n",
              "    <tr>\n",
              "      <th>102</th>\n",
              "      <td>200</td>\n",
              "      <td>Sweet Basket</td>\n",
              "      <td>Barfi, Bengali Sweets, Raj Kachori, Jalebi, Pa...</td>\n",
              "    </tr>\n",
              "    <tr>\n",
              "      <th>103</th>\n",
              "      <td>150</td>\n",
              "      <td>Mohammedia Shawarma</td>\n",
              "      <td>NaN</td>\n",
              "    </tr>\n",
              "    <tr>\n",
              "      <th>104</th>\n",
              "      <td>150</td>\n",
              "      <td>Amul</td>\n",
              "      <td>Death by Chocolate, Thick Shakes, Icecream, Br...</td>\n",
              "    </tr>\n",
              "  </tbody>\n",
              "</table>\n",
              "<p>105 rows × 3 columns</p>\n",
              "</div>\n",
              "      <button class=\"colab-df-convert\" onclick=\"convertToInteractive('df-85393f2b-8de2-4a2c-a46f-50b72c0c1850')\"\n",
              "              title=\"Convert this dataframe to an interactive table.\"\n",
              "              style=\"display:none;\">\n",
              "        \n",
              "  <svg xmlns=\"http://www.w3.org/2000/svg\" height=\"24px\"viewBox=\"0 0 24 24\"\n",
              "       width=\"24px\">\n",
              "    <path d=\"M0 0h24v24H0V0z\" fill=\"none\"/>\n",
              "    <path d=\"M18.56 5.44l.94 2.06.94-2.06 2.06-.94-2.06-.94-.94-2.06-.94 2.06-2.06.94zm-11 1L8.5 8.5l.94-2.06 2.06-.94-2.06-.94L8.5 2.5l-.94 2.06-2.06.94zm10 10l.94 2.06.94-2.06 2.06-.94-2.06-.94-.94-2.06-.94 2.06-2.06.94z\"/><path d=\"M17.41 7.96l-1.37-1.37c-.4-.4-.92-.59-1.43-.59-.52 0-1.04.2-1.43.59L10.3 9.45l-7.72 7.72c-.78.78-.78 2.05 0 2.83L4 21.41c.39.39.9.59 1.41.59.51 0 1.02-.2 1.41-.59l7.78-7.78 2.81-2.81c.8-.78.8-2.07 0-2.86zM5.41 20L4 18.59l7.72-7.72 1.47 1.35L5.41 20z\"/>\n",
              "  </svg>\n",
              "      </button>\n",
              "      \n",
              "  <style>\n",
              "    .colab-df-container {\n",
              "      display:flex;\n",
              "      flex-wrap:wrap;\n",
              "      gap: 12px;\n",
              "    }\n",
              "\n",
              "    .colab-df-convert {\n",
              "      background-color: #E8F0FE;\n",
              "      border: none;\n",
              "      border-radius: 50%;\n",
              "      cursor: pointer;\n",
              "      display: none;\n",
              "      fill: #1967D2;\n",
              "      height: 32px;\n",
              "      padding: 0 0 0 0;\n",
              "      width: 32px;\n",
              "    }\n",
              "\n",
              "    .colab-df-convert:hover {\n",
              "      background-color: #E2EBFA;\n",
              "      box-shadow: 0px 1px 2px rgba(60, 64, 67, 0.3), 0px 1px 3px 1px rgba(60, 64, 67, 0.15);\n",
              "      fill: #174EA6;\n",
              "    }\n",
              "\n",
              "    [theme=dark] .colab-df-convert {\n",
              "      background-color: #3B4455;\n",
              "      fill: #D2E3FC;\n",
              "    }\n",
              "\n",
              "    [theme=dark] .colab-df-convert:hover {\n",
              "      background-color: #434B5C;\n",
              "      box-shadow: 0px 1px 3px 1px rgba(0, 0, 0, 0.15);\n",
              "      filter: drop-shadow(0px 1px 2px rgba(0, 0, 0, 0.3));\n",
              "      fill: #FFFFFF;\n",
              "    }\n",
              "  </style>\n",
              "\n",
              "      <script>\n",
              "        const buttonEl =\n",
              "          document.querySelector('#df-85393f2b-8de2-4a2c-a46f-50b72c0c1850 button.colab-df-convert');\n",
              "        buttonEl.style.display =\n",
              "          google.colab.kernel.accessAllowed ? 'block' : 'none';\n",
              "\n",
              "        async function convertToInteractive(key) {\n",
              "          const element = document.querySelector('#df-85393f2b-8de2-4a2c-a46f-50b72c0c1850');\n",
              "          const dataTable =\n",
              "            await google.colab.kernel.invokeFunction('convertToInteractive',\n",
              "                                                     [key], {});\n",
              "          if (!dataTable) return;\n",
              "\n",
              "          const docLinkHtml = 'Like what you see? Visit the ' +\n",
              "            '<a target=\"_blank\" href=https://colab.research.google.com/notebooks/data_table.ipynb>data table notebook</a>'\n",
              "            + ' to learn more about interactive tables.';\n",
              "          element.innerHTML = '';\n",
              "          dataTable['output_type'] = 'display_data';\n",
              "          await google.colab.output.renderOutput(dataTable, element);\n",
              "          const docLink = document.createElement('div');\n",
              "          docLink.innerHTML = docLinkHtml;\n",
              "          element.appendChild(docLink);\n",
              "        }\n",
              "      </script>\n",
              "    </div>\n",
              "  </div>\n",
              "  "
            ]
          },
          "metadata": {},
          "execution_count": 314
        }
      ]
    },
    {
      "cell_type": "markdown",
      "source": [
        "Five most Expensive resturaunts in the df. \n",
        "1.             Collage - Hyatt Hyderabad Gachibowli\n",
        "\n",
        "2.             Feast - Sheraton Hyderabad Hotel\t\n",
        "\n",
        "3.   Jonathan's Kitchen - Holiday Inn Express & Suites\n",
        "\n",
        "4.                    10 Downing Street\n",
        "\n",
        "5.                Cascade - Radisson Hyderabad Hitec City\t\n"
      ],
      "metadata": {
        "id": "qSklmN3-rvVK"
      }
    },
    {
      "cell_type": "markdown",
      "source": [
        "Cheapest resturaunts in the df\n",
        "1.                                    Mohammedia Shawarma\n",
        "2.                                                  Amul\n",
        "3.                                         Asian Meal Box\n",
        "4.                                          Sweet Basket\n",
        "5.                                              KS Bakers"
      ],
      "metadata": {
        "id": "ncFJdDqmsJ5S"
      }
    },
    {
      "cell_type": "code",
      "source": [
        "meta_df['Collections'].value_counts()"
      ],
      "metadata": {
        "colab": {
          "base_uri": "https://localhost:8080/"
        },
        "id": "CzBN5qFl8K5G",
        "outputId": "21ffac71-2b6b-4496-f8c6-8fd90f44d331"
      },
      "execution_count": 315,
      "outputs": [
        {
          "output_type": "execute_result",
          "data": {
            "text/plain": [
              "Food Hygiene Rated Restaurants in Hyderabad                                                                                                       4\n",
              "New on Gold                                                                                                                                       2\n",
              "Great Buffets                                                                                                                                     2\n",
              "Hyderabad's Hottest                                                                                                                               2\n",
              "Veggie Friendly                                                                                                                                   2\n",
              "Trending This Week                                                                                                                                2\n",
              "Pan-Asian Delicacies                                                                                                                              2\n",
              "Street Food, Veggie Friendly, Pocket Friendly                                                                                                     1\n",
              "Late Night Restaurants                                                                                                                            1\n",
              "Barbecue & Grill, Live Sports Screenings                                                                                                          1\n",
              "Great Buffets, Live Sports Screenings, Best Bars & Pubs, Trending This Week                                                                       1\n",
              "Haleem                                                                                                                                            1\n",
              "Best Bakeries                                                                                                                                     1\n",
              "Great Buffets, Trending This Week                                                                                                                 1\n",
              "Food Hygiene Rated Restaurants in Hyderabad, Corporate Favorites, Great Buffets, Top-Rated, Gold Curated, Live Sports Screenings                  1\n",
              "Best Milkshakes                                                                                                                                   1\n",
              "Mandi, Great Buffets, The ‘Must Visit’ Eateries                                                                                                   1\n",
              "Sneak Peek Hyderabad                                                                                                                              1\n",
              "Sneak Peek Hyderabad, Best Bars & Pubs, Gigs and Events                                                                                           1\n",
              "Brilliant Biryanis                                                                                                                                1\n",
              "Great Breakfasts, Late Night Restaurants, Best shawarmas                                                                                          1\n",
              "Veggie Friendly, Terrific Thalis                                                                                                                  1\n",
              "Sunday Brunches                                                                                                                                   1\n",
              "Great Buffets, Live Sports Screenings                                                                                                             1\n",
              "Best Bars & Pubs, Food Hygiene Rated Restaurants in Hyderabad, Top-Rated, Gold Curated, Hyderabad's Hottest                                       1\n",
              "Sunday Brunches, Great Breakfasts, Function Venues, Ramzan Mubarak                                                                                1\n",
              "Great Italian, Sunday Brunches                                                                                                                    1\n",
              "Top-Rated, Gold Curated, Fancy and Fun                                                                                                            1\n",
              "Barbecue & Grill                                                                                                                                  1\n",
              "Happy Hours, Top-Rated, Gold Curated                                                                                                              1\n",
              "Barbecue & Grill, Great Buffets, Corporate Favorites, Hyderabad's Hottest                                                                         1\n",
              "Sunday Brunches, Corporate Favorites, Great Buffets, Hyderabad's Hottest, Food Hygiene Rated Restaurants in Hyderabad, Top-Rated, Gold Curated    1\n",
              "Food Hygiene Rated Restaurants in Hyderabad, Great Buffets, Hyderabad's Hottest                                                                   1\n",
              "Gigs and Events, Corporate Favorites                                                                                                              1\n",
              "Function Venues, Regional Favorites                                                                                                               1\n",
              "Live Sports Screenings, Gigs and Events                                                                                                           1\n",
              "Corporate Favorites, Happy Hours, Live Sports Screenings, Rooftops, Trending This Week                                                            1\n",
              "Great Buffets, Hyderabad's Hottest                                                                                                                1\n",
              "Rooftops, Live Sports Screenings, Best Bars & Pubs                                                                                                1\n",
              "Fancy and Fun                                                                                                                                     1\n",
              "Happy Hours, Top Drinking Destinations, Corporate Favorites                                                                                       1\n",
              "Frozen Delights                                                                                                                                   1\n",
              "Name: Collections, dtype: int64"
            ]
          },
          "metadata": {},
          "execution_count": 315
        }
      ]
    },
    {
      "cell_type": "code",
      "source": [
        "meta_df['known_for'].value_counts()"
      ],
      "metadata": {
        "colab": {
          "base_uri": "https://localhost:8080/"
        },
        "id": "xg62k34iAao3",
        "outputId": "59656a77-f964-4045-b4da-0ec587e05676"
      },
      "execution_count": 316,
      "outputs": [
        {
          "output_type": "execute_result",
          "data": {
            "text/plain": [
              "Classy Ambience, Sophisticated, Worth the Price, Brunch, Appetizers, Breakfast                                                 1\n",
              "Beautiful Interiors, Comfortable Seating Area, Excellent Ambience, Quick Delivery, Preparation, Portion Size                   1\n",
              "Courteous Staff, Good Ambience, Main Course, Food Quality, Great Food, Tasty                                                   1\n",
              "Good Space, Interesting Menu, Breakfast Options, Nice Menu, Great Price, Pocket Friendly Place                                 1\n",
              "Healthy Food, Meals, Packing, Excellent Food, Quantity, Menu                                                                   1\n",
              "                                                                                                                              ..\n",
              "Chinese Restaurant, Comfortable Seating, Fast Service, Decor, Nice Ambience, Reasonable Price                                  1\n",
              "Valet Service, Good for Large Groups, Excellent Food and Service, Family Place, Ample Seating Area, Chinese                    1\n",
              "Royal Ambience, Worth the Price, Comfortable Seating, Cutlery, Decent Ambience, Decor                                          1\n",
              "Complimentary Drinks, Themed Decor, Birthday Celebration, Excellent Hospitality, Comfortable Seating Area, Good Environment    1\n",
              "Quick Delivery, Great Taste, Good Taste, Best Place, Great Portions, Good Service                                              1\n",
              "Name: known_for, Length: 95, dtype: int64"
            ]
          },
          "metadata": {},
          "execution_count": 316
        }
      ]
    },
    {
      "cell_type": "code",
      "source": [
        "a,b=Row_lis2(meta_df,'known_for')\n",
        "a.value_counts()"
      ],
      "metadata": {
        "colab": {
          "base_uri": "https://localhost:8080/"
        },
        "id": "EB2v1Q6SUhN1",
        "outputId": "c18e0417-1f65-4145-f876-7eff515f8c96"
      },
      "execution_count": 317,
      "outputs": [
        {
          "output_type": "stream",
          "name": "stdout",
          "text": [
            "List size: 276\n"
          ]
        },
        {
          "output_type": "execute_result",
          "data": {
            "text/plain": [
              "(known_for,)         \n",
              "Beautiful View           5\n",
              "Ample Seating Area       4\n",
              "Worth the Price          4\n",
              "Good for Large Groups    4\n",
              "Rooftop Ambience         4\n",
              "                        ..\n",
              "Affordable Prices        1\n",
              "Great Lighting           1\n",
              "Great Host               1\n",
              "Great Hospitality        1\n",
              "Yummy Food               1\n",
              "Length: 193, dtype: int64"
            ]
          },
          "metadata": {},
          "execution_count": 317
        }
      ]
    },
    {
      "cell_type": "code",
      "source": [
        "b=unique_list(b)"
      ],
      "metadata": {
        "id": "3U0vrP27iObf"
      },
      "execution_count": 318,
      "outputs": []
    },
    {
      "cell_type": "code",
      "source": [
        "meta_df['Cuisines'].value_counts()"
      ],
      "metadata": {
        "colab": {
          "base_uri": "https://localhost:8080/"
        },
        "id": "7-v8q41l8Qbo",
        "outputId": "b93d1002-f1d9-4f72-a067-92b9c2fa201e"
      },
      "execution_count": 319,
      "outputs": [
        {
          "output_type": "execute_result",
          "data": {
            "text/plain": [
              "North Indian, Chinese                        4\n",
              "North Indian                                 3\n",
              "Fast Food                                    2\n",
              "South Indian, North Indian, Chinese          2\n",
              "Biryani, North Indian, Chinese               2\n",
              "                                            ..\n",
              "Asian, Thai, Chinese, Sushi, Momos           1\n",
              "North Indian, Mughlai                        1\n",
              "North Indian, Mediterranean, European        1\n",
              "Kebab, Continental, Italian, North Indian    1\n",
              "Street Food, Arabian                         1\n",
              "Name: Cuisines, Length: 92, dtype: int64"
            ]
          },
          "metadata": {},
          "execution_count": 319
        }
      ]
    },
    {
      "cell_type": "code",
      "source": [
        "a,c=Row_lis2(meta_df,'Cuisines')\n",
        "a.value_counts()"
      ],
      "metadata": {
        "colab": {
          "base_uri": "https://localhost:8080/"
        },
        "id": "M5L6MJ2RWDVl",
        "outputId": "ae48e5d8-c5b3-4028-c5b4-68508418db28"
      },
      "execution_count": 320,
      "outputs": [
        {
          "output_type": "stream",
          "name": "stdout",
          "text": [
            "List size: 159\n"
          ]
        },
        {
          "output_type": "execute_result",
          "data": {
            "text/plain": [
              "(Cuisines,)  \n",
              "North Indian     32\n",
              "Chinese          22\n",
              "Continental      14\n",
              "Italian          12\n",
              "Asian            10\n",
              "South Indian      5\n",
              "Desserts          5\n",
              "Kebab             4\n",
              "American          4\n",
              "Mediterranean     4\n",
              "Biryani           4\n",
              "Bakery            3\n",
              "European          3\n",
              "Mughlai           3\n",
              "Salad             3\n",
              "Modern Indian     2\n",
              "Thai              2\n",
              "Japanese          2\n",
              "Sushi             2\n",
              "Hyderabadi        2\n",
              "Andhra            2\n",
              "Seafood           2\n",
              "Finger Food       2\n",
              "Beverages         2\n",
              "Mexican           1\n",
              "Street Food       1\n",
              "Ice Cream         1\n",
              "Malaysian         1\n",
              "Juices            1\n",
              "Indonesian        1\n",
              "Healthy Food      1\n",
              "Goan              1\n",
              "Fast Food         1\n",
              "Cafe              1\n",
              "BBQ               1\n",
              "Arabian           1\n",
              "Wraps             1\n",
              "dtype: int64"
            ]
          },
          "metadata": {},
          "execution_count": 320
        }
      ]
    },
    {
      "cell_type": "code",
      "source": [
        "c= unique_list(c)"
      ],
      "metadata": {
        "id": "ADeEaE8oiBYs"
      },
      "execution_count": 321,
      "outputs": []
    },
    {
      "cell_type": "markdown",
      "source": [
        "Exploring Time Column "
      ],
      "metadata": {
        "id": "Hv3wnNftYh9v"
      }
    },
    {
      "cell_type": "code",
      "source": [
        "meta_df['Timings']"
      ],
      "metadata": {
        "colab": {
          "base_uri": "https://localhost:8080/"
        },
        "id": "9IDijJ_R8fyE",
        "outputId": "b470e868-76be-4f1f-bda8-a9862e9c6839"
      },
      "execution_count": 322,
      "outputs": [
        {
          "output_type": "execute_result",
          "data": {
            "text/plain": [
              "0                                     24 Hours (Mon-Sun)\n",
              "1      6:30am to 10:30am, 12:30pm to 3pm, 7pm to 11pm...\n",
              "2                        11:30 AM to 3 PM, 7 PM to 11 PM\n",
              "3                                 12 Noon to 12 Midnight\n",
              "4                                               24 Hours\n",
              "                             ...                        \n",
              "100                                 6pm to 2am (Mon-Sun)\n",
              "101                                   4:30 PM to 5:30 AM\n",
              "102    10 AM to 10 PM (Mon-Thu), 8 AM to 10:30 PM (Fr...\n",
              "103                                         1 PM to 1 AM\n",
              "104                                        10 AM to 5 AM\n",
              "Name: Timings, Length: 105, dtype: object"
            ]
          },
          "metadata": {},
          "execution_count": 322
        }
      ]
    },
    {
      "cell_type": "code",
      "source": [
        "meta_df['additional_services']"
      ],
      "metadata": {
        "colab": {
          "base_uri": "https://localhost:8080/"
        },
        "id": "KFtHZ0sBdhET",
        "outputId": "29db962e-4c3c-4890-855a-ab177cbeb5dc"
      },
      "execution_count": 323,
      "outputs": [
        {
          "output_type": "execute_result",
          "data": {
            "text/plain": [
              "0      ['Breakfast', 'Home Delivery', 'Takeaway Avail...\n",
              "1      ['Breakfast', 'Home Delivery', 'Takeaway Avail...\n",
              "2      ['Home Delivery', 'Serves Alcohol', 'Indoor Se...\n",
              "3      ['Home Delivery', 'Takeaway Available', 'Full ...\n",
              "4      ['Breakfast', 'Home Delivery', 'Valet Parking ...\n",
              "                             ...                        \n",
              "100    ['Home Delivery', 'Takeaway Available', 'Stand...\n",
              "101    ['Breakfast', 'Home Delivery', 'Takeaway Avail...\n",
              "102    ['Breakfast', 'Home Delivery', 'Takeaway Avail...\n",
              "103                                                   []\n",
              "104    ['Home Delivery', 'Takeaway Available', 'Veget...\n",
              "Name: additional_services, Length: 105, dtype: object"
            ]
          },
          "metadata": {},
          "execution_count": 323
        }
      ]
    },
    {
      "cell_type": "markdown",
      "source": [
        "Q. What are the most comman services offered by the resturants ? "
      ],
      "metadata": {
        "id": "-32fhJgiA2PV"
      }
    },
    {
      "cell_type": "code",
      "source": [
        "a,d= Row_lis3(meta_df,'additional_services')\n",
        "a.value_counts()"
      ],
      "metadata": {
        "colab": {
          "base_uri": "https://localhost:8080/"
        },
        "id": "dct2xoN68nFK",
        "outputId": "c9183030-d072-4672-b7a1-21f3ac36ac89"
      },
      "execution_count": 324,
      "outputs": [
        {
          "output_type": "stream",
          "name": "stdout",
          "text": [
            "List size: 457\n"
          ]
        },
        {
          "output_type": "execute_result",
          "data": {
            "text/plain": [
              "(additional_services,)        \n",
              " Takeaway Available               66\n",
              " Indoor Seating                   47\n",
              " Table booking recommended        23\n",
              " Full Bar Available               21\n",
              " Valet Parking Available          21\n",
              "                                  ..\n",
              " Outdoor SeatingHome Delivery      1\n",
              " Parking                           1\n",
              " Pet Friendly                      1\n",
              " Private Dining Area Available     1\n",
              "Breakfast                          1\n",
              "Length: 96, dtype: int64"
            ]
          },
          "metadata": {},
          "execution_count": 324
        }
      ]
    },
    {
      "cell_type": "markdown",
      "source": [
        " **The most recurring features in the resturaunt are**\n",
        " \n",
        " Takeaway Available               \n",
        " Indoor Seating                   \n",
        " Table booking recommended        \n",
        " Valet Parking Available          \n",
        " Full Bar Available              "
      ],
      "metadata": {
        "id": "qTF3Zmx3CKL1"
      }
    },
    {
      "cell_type": "code",
      "source": [
        "d= unique_list(d)"
      ],
      "metadata": {
        "id": "L9ZbX3npYVPd"
      },
      "execution_count": 325,
      "outputs": []
    },
    {
      "cell_type": "markdown",
      "source": [
        "Q. What is the count of featured resturaunts in the DataFrame"
      ],
      "metadata": {
        "id": "fh1lqmH2CqVa"
      }
    },
    {
      "cell_type": "code",
      "source": [
        "meta_df['Has_Featured'].value_counts()\n"
      ],
      "metadata": {
        "colab": {
          "base_uri": "https://localhost:8080/"
        },
        "id": "sLBFjg6h8pby",
        "outputId": "2519f8db-0a0b-4a9b-848a-5a239f22f23d"
      },
      "execution_count": 326,
      "outputs": [
        {
          "output_type": "execute_result",
          "data": {
            "text/plain": [
              "0.00    79\n",
              "1.00    26\n",
              "Name: Has_Featured, dtype: int64"
            ]
          },
          "metadata": {},
          "execution_count": 326
        }
      ]
    },
    {
      "cell_type": "markdown",
      "source": [
        "Q. How many resturaunts have closed for business? "
      ],
      "metadata": {
        "id": "WgYpnUPPGSSt"
      }
    },
    {
      "cell_type": "code",
      "source": [
        "meta_df['status'].value_counts()"
      ],
      "metadata": {
        "colab": {
          "base_uri": "https://localhost:8080/"
        },
        "id": "5P6rEGHN8p0n",
        "outputId": "996c5f54-11ff-4f31-cc1b-9f9666192956"
      },
      "execution_count": 327,
      "outputs": [
        {
          "output_type": "execute_result",
          "data": {
            "text/plain": [
              "Open For Business     81\n",
              "Permanently Closed    24\n",
              "Name: status, dtype: int64"
            ]
          },
          "metadata": {},
          "execution_count": 327
        }
      ]
    },
    {
      "cell_type": "code",
      "source": [
        "meta_df['Popular_Dishes'].value_counts()"
      ],
      "metadata": {
        "colab": {
          "base_uri": "https://localhost:8080/"
        },
        "id": "_4yjRTqqE5Kz",
        "outputId": "5234014a-65a3-4281-dca6-452f1230785b"
      },
      "execution_count": 328,
      "outputs": [
        {
          "output_type": "execute_result",
          "data": {
            "text/plain": [
              "Sushi, Sunday Brunch, Pancakes, Salads, Deserts, Sauce                                                                      1\n",
              "Chocolate Icecreams, Firni, Sweet Pan, Authentic Hyderabadi Biryani, Lemon Chicken, Falooda                                 1\n",
              "Dhaba Chicken Curry, Veg Galouti Kebab, Amritsari Kulche, Mix Vegetable, Authentic North Indian Food, Mutton Combo          1\n",
              "Naga Chilli Pork, Pork Momo, Bibimbap, Lemon Grass Chicken, Teriyaki Chicken, Pork Ribs                                     1\n",
              "Murgh Kalmi Kebab, Murgh Mussalam, Yakhni Shorba, Tandoori Jhinga, Chicken Lolipop, Authentic Hyderabadi Food               1\n",
              "                                                                                                                           ..\n",
              "Dal Kichadi, Tandoori Wings, Pineapple Grill, Hot Gulab Jamun, Panneer Butter Masala, Grilled Fish                          1\n",
              "Mongolian Chicken, Cocktails, Chilli Chicken, Pasta                                                                         1\n",
              "Belgian Wheat Beer, Crispy Water Chestnuts, Apple Cider Beer, Strawberry Cooler, Chicken Kothu Paratha, Peri Peri Prawns    1\n",
              "Fish Mandi, Desserts, Chicken, Biryani                                                                                      1\n",
              "Death by Chocolate, Thick Shakes, Icecream, Brownie, Ice Creams                                                             1\n",
              "Name: Popular_Dishes, Length: 81, dtype: int64"
            ]
          },
          "metadata": {},
          "execution_count": 328
        }
      ]
    },
    {
      "cell_type": "markdown",
      "source": [
        "Q. What are the total number of unique popular dishes which are served ?"
      ],
      "metadata": {
        "id": "H2I_ZJ5zHBC7"
      }
    },
    {
      "cell_type": "code",
      "source": [
        "a,b=Row_lis2(meta_df,'Popular_Dishes')\n",
        "a.nunique()"
      ],
      "metadata": {
        "colab": {
          "base_uri": "https://localhost:8080/"
        },
        "id": "29VL7DqxEaWB",
        "outputId": "161e32dd-f7d4-42f9-8498-ddbb0fe9474f"
      },
      "execution_count": 329,
      "outputs": [
        {
          "output_type": "stream",
          "name": "stdout",
          "text": [
            "List size: 268\n"
          ]
        },
        {
          "output_type": "execute_result",
          "data": {
            "text/plain": [
              "Popular_Dishes    241\n",
              "dtype: int64"
            ]
          },
          "metadata": {},
          "execution_count": 329
        }
      ]
    },
    {
      "cell_type": "markdown",
      "source": [
        "## Reviews "
      ],
      "metadata": {
        "id": "HbWL_bZ_72eV"
      }
    },
    {
      "cell_type": "code",
      "source": [
        "reviews_df.columns\n"
      ],
      "metadata": {
        "colab": {
          "base_uri": "https://localhost:8080/"
        },
        "id": "HPEUPCgT8WMR",
        "outputId": "6caf169e-fed7-4d9c-98e3-e1e46087264d"
      },
      "execution_count": 330,
      "outputs": [
        {
          "output_type": "execute_result",
          "data": {
            "text/plain": [
              "Index(['Restaurant', 'Reviewer', 'Review', 'Rating', 'Metadata', 'Time',\n",
              "       'Pictures'],\n",
              "      dtype='object')"
            ]
          },
          "metadata": {},
          "execution_count": 330
        }
      ]
    },
    {
      "cell_type": "markdown",
      "source": [
        "Q. Explore names of resturaunt"
      ],
      "metadata": {
        "id": "WzfbkZSi-LrG"
      }
    },
    {
      "cell_type": "code",
      "source": [
        "reviews_df['Restaurant']"
      ],
      "metadata": {
        "colab": {
          "base_uri": "https://localhost:8080/"
        },
        "id": "ZP2701w996T4",
        "outputId": "8aa77bd9-5c75-4d61-bc1e-acf390108347"
      },
      "execution_count": 331,
      "outputs": [
        {
          "output_type": "execute_result",
          "data": {
            "text/plain": [
              "0        Beyond Flavours\n",
              "1        Beyond Flavours\n",
              "2        Beyond Flavours\n",
              "3        Beyond Flavours\n",
              "4        Beyond Flavours\n",
              "              ...       \n",
              "9995    Chinese Pavilion\n",
              "9996    Chinese Pavilion\n",
              "9997    Chinese Pavilion\n",
              "9998    Chinese Pavilion\n",
              "9999    Chinese Pavilion\n",
              "Name: Restaurant, Length: 10000, dtype: object"
            ]
          },
          "metadata": {},
          "execution_count": 331
        }
      ]
    },
    {
      "cell_type": "markdown",
      "source": [
        "Q. Explore Ratings"
      ],
      "metadata": {
        "id": "V87H_PjS-Ssb"
      }
    },
    {
      "cell_type": "code",
      "source": [
        "# finding the count of null values\n",
        "reviews_df.isnull().sum()"
      ],
      "metadata": {
        "colab": {
          "base_uri": "https://localhost:8080/"
        },
        "id": "lyOv7COS-JrF",
        "outputId": "5e9d869d-0207-4c41-d334-39a72e5257f0"
      },
      "execution_count": 332,
      "outputs": [
        {
          "output_type": "execute_result",
          "data": {
            "text/plain": [
              "Restaurant     0\n",
              "Reviewer      38\n",
              "Review        45\n",
              "Rating        38\n",
              "Metadata      38\n",
              "Time          38\n",
              "Pictures       0\n",
              "dtype: int64"
            ]
          },
          "metadata": {},
          "execution_count": 332
        }
      ]
    },
    {
      "cell_type": "markdown",
      "source": [
        "We see that rating has 38 null values "
      ],
      "metadata": {
        "id": "bSusJgnM-f_5"
      }
    },
    {
      "cell_type": "code",
      "source": [
        "reviews_df['Rating'].describe()"
      ],
      "metadata": {
        "colab": {
          "base_uri": "https://localhost:8080/"
        },
        "id": "j35Hzqnb_CdP",
        "outputId": "102e384d-5045-445f-e380-49e464538472"
      },
      "execution_count": 333,
      "outputs": [
        {
          "output_type": "execute_result",
          "data": {
            "text/plain": [
              "count     9962\n",
              "unique      10\n",
              "top          5\n",
              "freq      3832\n",
              "Name: Rating, dtype: object"
            ]
          },
          "metadata": {},
          "execution_count": 333
        }
      ]
    },
    {
      "cell_type": "code",
      "source": [
        "reviews_df['Rating'].unique()"
      ],
      "metadata": {
        "colab": {
          "base_uri": "https://localhost:8080/"
        },
        "id": "a5Aoo_Ut_GKp",
        "outputId": "09ebca12-7a69-4de6-eef1-d06e36023d25"
      },
      "execution_count": 334,
      "outputs": [
        {
          "output_type": "execute_result",
          "data": {
            "text/plain": [
              "array(['5', '4', '1', '3', '2', '3.5', '4.5', '2.5', '1.5', 'Like', nan],\n",
              "      dtype=object)"
            ]
          },
          "metadata": {},
          "execution_count": 334
        }
      ]
    },
    {
      "cell_type": "code",
      "source": [
        "Test_df=reviews_df"
      ],
      "metadata": {
        "id": "WrH_5xnfA5G-"
      },
      "execution_count": 335,
      "outputs": []
    },
    {
      "cell_type": "code",
      "source": [
        "# Imputing  'like'  to np.nan\n",
        "\n",
        "Test_df.loc[Test_df['Rating'] == 'Like'] = np.nan\n",
        "\n",
        "# Changing Data type of the dataSet\n",
        "Test_df['Rating'] = Test_df['Rating'].astype('float64')\n",
        "print(Test_df['Rating'].describe())\n"
      ],
      "metadata": {
        "colab": {
          "base_uri": "https://localhost:8080/"
        },
        "id": "qqRYgEQ9BBca",
        "outputId": "2249f22c-d3ae-4b0a-904e-1bd3c26e4a85"
      },
      "execution_count": 336,
      "outputs": [
        {
          "output_type": "stream",
          "name": "stdout",
          "text": [
            "count   9961.00\n",
            "mean       3.60\n",
            "std        1.48\n",
            "min        1.00\n",
            "25%        3.00\n",
            "50%        4.00\n",
            "75%        5.00\n",
            "max        5.00\n",
            "Name: Rating, dtype: float64\n"
          ]
        }
      ]
    },
    {
      "cell_type": "markdown",
      "source": [
        "Ratings column has 'Like' as its input which is unacceptable, let us impute it with 50% value of the Data set and nan values with 25% ."
      ],
      "metadata": {
        "id": "kJV6KOWS_ODh"
      }
    },
    {
      "cell_type": "code",
      "source": [
        "# Imputing  'like'  and nan values \n",
        "\n",
        "reviews_df.loc[reviews_df['Rating'] == 'Like'] = 4.00\n",
        "\n",
        "reviews_df.loc[reviews_df['Rating'] == np.nan] = 3.00\n",
        "\n",
        "# Changing Data type of the dataSet\n",
        "reviews_df['Rating'] = reviews_df['Rating'].astype('float64')\n",
        "\n",
        "\n"
      ],
      "metadata": {
        "id": "0dqdEyyg-anF"
      },
      "execution_count": 337,
      "outputs": []
    },
    {
      "cell_type": "markdown",
      "source": [
        "Exploring meta data. "
      ],
      "metadata": {
        "id": "PK4phhwoB6hz"
      }
    },
    {
      "cell_type": "code",
      "source": [
        "reviews_df['Metadata']"
      ],
      "metadata": {
        "colab": {
          "base_uri": "https://localhost:8080/"
        },
        "id": "Cb1M0qKOCStd",
        "outputId": "a6f27b68-80ad-450f-a902-be01b1ba65a1"
      },
      "execution_count": 338,
      "outputs": [
        {
          "output_type": "execute_result",
          "data": {
            "text/plain": [
              "0             1 Review , 2 Followers\n",
              "1            3 Reviews , 2 Followers\n",
              "2            2 Reviews , 3 Followers\n",
              "3              1 Review , 1 Follower\n",
              "4            3 Reviews , 2 Followers\n",
              "                    ...             \n",
              "9995       53 Reviews , 54 Followers\n",
              "9996        2 Reviews , 53 Followers\n",
              "9997      65 Reviews , 423 Followers\n",
              "9998      13 Reviews , 144 Followers\n",
              "9999    472 Reviews , 1302 Followers\n",
              "Name: Metadata, Length: 10000, dtype: object"
            ]
          },
          "metadata": {},
          "execution_count": 338
        }
      ]
    },
    {
      "cell_type": "code",
      "source": [
        "'''\n",
        "Splitting MetaData into Followers and reviews \n",
        "'''\n",
        "\n",
        "reviews_df['Reviews'],reviews_df['Followers']=reviews_df['Metadata'].str.split(',').str\n",
        "\n",
        "'''\n",
        "Conveting the newly created columns into Followers and Reviews \n",
        "'''\n",
        "reviews_df['Reviews'] = pd.to_numeric(reviews_df['Reviews'].str.split(' ').str[0])\n",
        "reviews_df['Followers'] = pd.to_numeric(reviews_df['Followers'].str.split(' ').str[1])\n",
        "\n",
        "'''\n",
        "Dropping the Reviews Column \n",
        "'''\n",
        "\n",
        "reviews_df = reviews_df.drop(['Metadata'], axis =1)"
      ],
      "metadata": {
        "colab": {
          "base_uri": "https://localhost:8080/"
        },
        "id": "hs6wvf86C_FN",
        "outputId": "da8381e4-f783-4720-d4bf-b65678a8786b"
      },
      "execution_count": 339,
      "outputs": [
        {
          "output_type": "stream",
          "name": "stderr",
          "text": [
            "/usr/local/lib/python3.7/dist-packages/ipykernel_launcher.py:5: FutureWarning: Columnar iteration over characters will be deprecated in future releases.\n",
            "  \"\"\"\n"
          ]
        }
      ]
    },
    {
      "cell_type": "markdown",
      "source": [
        "Exploring Time. "
      ],
      "metadata": {
        "id": "x2-oOgVTI8yl"
      }
    },
    {
      "cell_type": "code",
      "source": [
        "#Splitting time into various columns. \n",
        "\n",
        "'''\n",
        "comverting time to DateTime format\n",
        "'''\n",
        "reviews_df['Time']=pd.to_datetime(reviews_df['Time'])\n",
        "\n",
        "'''\n",
        "Creating new columns based on DateTime\n",
        "'''\n",
        "\n",
        "reviews_df['Year'] = pd.DatetimeIndex(reviews_df['Time']).year\n",
        "reviews_df['Month'] = pd.DatetimeIndex(reviews_df['Time']).month\n",
        "reviews_df['Hour'] = pd.DatetimeIndex(reviews_df['Time']).hour\n",
        "\n",
        "'''\n",
        "Dropping time column \n",
        "'''\n",
        "reviews_df = reviews_df.drop(['Time'], axis =1)"
      ],
      "metadata": {
        "id": "cK0w3aO9I8Jx"
      },
      "execution_count": 340,
      "outputs": []
    },
    {
      "cell_type": "markdown",
      "source": [
        "Checking for null values"
      ],
      "metadata": {
        "id": "L3KHmoNAnW4J"
      }
    },
    {
      "cell_type": "code",
      "source": [
        "reviews_df.isna().sum()"
      ],
      "metadata": {
        "colab": {
          "base_uri": "https://localhost:8080/"
        },
        "id": "dQurdPWkLEuC",
        "outputId": "4bd0d8ad-6137-445b-8d0f-1474e3203d9d"
      },
      "execution_count": 341,
      "outputs": [
        {
          "output_type": "execute_result",
          "data": {
            "text/plain": [
              "Restaurant       1\n",
              "Reviewer        39\n",
              "Review          46\n",
              "Rating          39\n",
              "Pictures         1\n",
              "Reviews         39\n",
              "Followers     1617\n",
              "Year            39\n",
              "Month           39\n",
              "Hour            39\n",
              "dtype: int64"
            ]
          },
          "metadata": {},
          "execution_count": 341
        }
      ]
    },
    {
      "cell_type": "code",
      "source": [
        "'''\n",
        "Rows in which there are more than two null values \n",
        "'''\n",
        "\n",
        "x= reviews_df.iloc[reviews_df[(reviews_df.isnull().sum(axis=1) >= 2)].index]\n",
        "\n",
        "'''Storing index of this df'''\n",
        "y= x.index\n",
        "\n",
        "reviews_df.iloc[reviews_df[(reviews_df.isnull().sum(axis=1) >= 2)].index]\n"
      ],
      "metadata": {
        "colab": {
          "base_uri": "https://localhost:8080/",
          "height": 1000
        },
        "id": "TJrsthH3isL0",
        "outputId": "65610752-85a3-4ed9-bff7-bc82e93b0ed8"
      },
      "execution_count": 342,
      "outputs": [
        {
          "output_type": "execute_result",
          "data": {
            "text/plain": [
              "               Restaurant          Reviewer Review  Rating  Pictures  Reviews  \\\n",
              "2360                 Amul  Lakshmi Narayana    NaN    5.00      0.00     0.00   \n",
              "6449      Hyderabad Chefs    Madhurimanne97    NaN    5.00      0.00     1.00   \n",
              "6489      Hyderabad Chefs            Harsha    NaN    5.00      0.00     1.00   \n",
              "7601                  NaN               NaN    NaN     NaN       NaN      NaN   \n",
              "8228   Al Saba Restaurant            Suresh    NaN    5.00      0.00     1.00   \n",
              "8777  American Wild Wings               NaN    NaN     NaN      0.00      NaN   \n",
              "8778  American Wild Wings               NaN    NaN     NaN      0.00      NaN   \n",
              "8779  American Wild Wings               NaN    NaN     NaN      0.00      NaN   \n",
              "8780  American Wild Wings               NaN    NaN     NaN      0.00      NaN   \n",
              "8781  American Wild Wings               NaN    NaN     NaN      0.00      NaN   \n",
              "8782  American Wild Wings               NaN    NaN     NaN      0.00      NaN   \n",
              "8783  American Wild Wings               NaN    NaN     NaN      0.00      NaN   \n",
              "8784  American Wild Wings               NaN    NaN     NaN      0.00      NaN   \n",
              "8785  American Wild Wings               NaN    NaN     NaN      0.00      NaN   \n",
              "8786  American Wild Wings               NaN    NaN     NaN      0.00      NaN   \n",
              "8787  American Wild Wings               NaN    NaN     NaN      0.00      NaN   \n",
              "8788  American Wild Wings               NaN    NaN     NaN      0.00      NaN   \n",
              "8789  American Wild Wings               NaN    NaN     NaN      0.00      NaN   \n",
              "8790  American Wild Wings               NaN    NaN     NaN      0.00      NaN   \n",
              "8791  American Wild Wings               NaN    NaN     NaN      0.00      NaN   \n",
              "8792  American Wild Wings               NaN    NaN     NaN      0.00      NaN   \n",
              "8793  American Wild Wings               NaN    NaN     NaN      0.00      NaN   \n",
              "8794  American Wild Wings               NaN    NaN     NaN      0.00      NaN   \n",
              "8795  American Wild Wings               NaN    NaN     NaN      0.00      NaN   \n",
              "8796  American Wild Wings               NaN    NaN     NaN      0.00      NaN   \n",
              "8797  American Wild Wings               NaN    NaN     NaN      0.00      NaN   \n",
              "8798  American Wild Wings               NaN    NaN     NaN      0.00      NaN   \n",
              "8799  American Wild Wings               NaN    NaN     NaN      0.00      NaN   \n",
              "9085         Arena Eleven               NaN    NaN     NaN      0.00      NaN   \n",
              "9086         Arena Eleven               NaN    NaN     NaN      0.00      NaN   \n",
              "9087         Arena Eleven               NaN    NaN     NaN      0.00      NaN   \n",
              "9088         Arena Eleven               NaN    NaN     NaN      0.00      NaN   \n",
              "9089         Arena Eleven               NaN    NaN     NaN      0.00      NaN   \n",
              "9090         Arena Eleven               NaN    NaN     NaN      0.00      NaN   \n",
              "9091         Arena Eleven               NaN    NaN     NaN      0.00      NaN   \n",
              "9092         Arena Eleven               NaN    NaN     NaN      0.00      NaN   \n",
              "9093         Arena Eleven               NaN    NaN     NaN      0.00      NaN   \n",
              "9094         Arena Eleven               NaN    NaN     NaN      0.00      NaN   \n",
              "9095         Arena Eleven               NaN    NaN     NaN      0.00      NaN   \n",
              "9096         Arena Eleven               NaN    NaN     NaN      0.00      NaN   \n",
              "9097         Arena Eleven               NaN    NaN     NaN      0.00      NaN   \n",
              "9098         Arena Eleven               NaN    NaN     NaN      0.00      NaN   \n",
              "9099         Arena Eleven               NaN    NaN     NaN      0.00      NaN   \n",
              "\n",
              "      Followers    Year  Month  Hour  \n",
              "2360        NaN 2018.00   7.00 18.00  \n",
              "6449        NaN 2018.00   7.00 16.00  \n",
              "6489        NaN 2018.00   7.00 21.00  \n",
              "7601        NaN     NaN    NaN   NaN  \n",
              "8228        NaN 2018.00   7.00 22.00  \n",
              "8777        NaN     NaN    NaN   NaN  \n",
              "8778        NaN     NaN    NaN   NaN  \n",
              "8779        NaN     NaN    NaN   NaN  \n",
              "8780        NaN     NaN    NaN   NaN  \n",
              "8781        NaN     NaN    NaN   NaN  \n",
              "8782        NaN     NaN    NaN   NaN  \n",
              "8783        NaN     NaN    NaN   NaN  \n",
              "8784        NaN     NaN    NaN   NaN  \n",
              "8785        NaN     NaN    NaN   NaN  \n",
              "8786        NaN     NaN    NaN   NaN  \n",
              "8787        NaN     NaN    NaN   NaN  \n",
              "8788        NaN     NaN    NaN   NaN  \n",
              "8789        NaN     NaN    NaN   NaN  \n",
              "8790        NaN     NaN    NaN   NaN  \n",
              "8791        NaN     NaN    NaN   NaN  \n",
              "8792        NaN     NaN    NaN   NaN  \n",
              "8793        NaN     NaN    NaN   NaN  \n",
              "8794        NaN     NaN    NaN   NaN  \n",
              "8795        NaN     NaN    NaN   NaN  \n",
              "8796        NaN     NaN    NaN   NaN  \n",
              "8797        NaN     NaN    NaN   NaN  \n",
              "8798        NaN     NaN    NaN   NaN  \n",
              "8799        NaN     NaN    NaN   NaN  \n",
              "9085        NaN     NaN    NaN   NaN  \n",
              "9086        NaN     NaN    NaN   NaN  \n",
              "9087        NaN     NaN    NaN   NaN  \n",
              "9088        NaN     NaN    NaN   NaN  \n",
              "9089        NaN     NaN    NaN   NaN  \n",
              "9090        NaN     NaN    NaN   NaN  \n",
              "9091        NaN     NaN    NaN   NaN  \n",
              "9092        NaN     NaN    NaN   NaN  \n",
              "9093        NaN     NaN    NaN   NaN  \n",
              "9094        NaN     NaN    NaN   NaN  \n",
              "9095        NaN     NaN    NaN   NaN  \n",
              "9096        NaN     NaN    NaN   NaN  \n",
              "9097        NaN     NaN    NaN   NaN  \n",
              "9098        NaN     NaN    NaN   NaN  \n",
              "9099        NaN     NaN    NaN   NaN  "
            ],
            "text/html": [
              "\n",
              "  <div id=\"df-00b430a7-4d70-4588-a9a0-0ba944b33e04\">\n",
              "    <div class=\"colab-df-container\">\n",
              "      <div>\n",
              "<style scoped>\n",
              "    .dataframe tbody tr th:only-of-type {\n",
              "        vertical-align: middle;\n",
              "    }\n",
              "\n",
              "    .dataframe tbody tr th {\n",
              "        vertical-align: top;\n",
              "    }\n",
              "\n",
              "    .dataframe thead th {\n",
              "        text-align: right;\n",
              "    }\n",
              "</style>\n",
              "<table border=\"1\" class=\"dataframe\">\n",
              "  <thead>\n",
              "    <tr style=\"text-align: right;\">\n",
              "      <th></th>\n",
              "      <th>Restaurant</th>\n",
              "      <th>Reviewer</th>\n",
              "      <th>Review</th>\n",
              "      <th>Rating</th>\n",
              "      <th>Pictures</th>\n",
              "      <th>Reviews</th>\n",
              "      <th>Followers</th>\n",
              "      <th>Year</th>\n",
              "      <th>Month</th>\n",
              "      <th>Hour</th>\n",
              "    </tr>\n",
              "  </thead>\n",
              "  <tbody>\n",
              "    <tr>\n",
              "      <th>2360</th>\n",
              "      <td>Amul</td>\n",
              "      <td>Lakshmi Narayana</td>\n",
              "      <td>NaN</td>\n",
              "      <td>5.00</td>\n",
              "      <td>0.00</td>\n",
              "      <td>0.00</td>\n",
              "      <td>NaN</td>\n",
              "      <td>2018.00</td>\n",
              "      <td>7.00</td>\n",
              "      <td>18.00</td>\n",
              "    </tr>\n",
              "    <tr>\n",
              "      <th>6449</th>\n",
              "      <td>Hyderabad Chefs</td>\n",
              "      <td>Madhurimanne97</td>\n",
              "      <td>NaN</td>\n",
              "      <td>5.00</td>\n",
              "      <td>0.00</td>\n",
              "      <td>1.00</td>\n",
              "      <td>NaN</td>\n",
              "      <td>2018.00</td>\n",
              "      <td>7.00</td>\n",
              "      <td>16.00</td>\n",
              "    </tr>\n",
              "    <tr>\n",
              "      <th>6489</th>\n",
              "      <td>Hyderabad Chefs</td>\n",
              "      <td>Harsha</td>\n",
              "      <td>NaN</td>\n",
              "      <td>5.00</td>\n",
              "      <td>0.00</td>\n",
              "      <td>1.00</td>\n",
              "      <td>NaN</td>\n",
              "      <td>2018.00</td>\n",
              "      <td>7.00</td>\n",
              "      <td>21.00</td>\n",
              "    </tr>\n",
              "    <tr>\n",
              "      <th>7601</th>\n",
              "      <td>NaN</td>\n",
              "      <td>NaN</td>\n",
              "      <td>NaN</td>\n",
              "      <td>NaN</td>\n",
              "      <td>NaN</td>\n",
              "      <td>NaN</td>\n",
              "      <td>NaN</td>\n",
              "      <td>NaN</td>\n",
              "      <td>NaN</td>\n",
              "      <td>NaN</td>\n",
              "    </tr>\n",
              "    <tr>\n",
              "      <th>8228</th>\n",
              "      <td>Al Saba Restaurant</td>\n",
              "      <td>Suresh</td>\n",
              "      <td>NaN</td>\n",
              "      <td>5.00</td>\n",
              "      <td>0.00</td>\n",
              "      <td>1.00</td>\n",
              "      <td>NaN</td>\n",
              "      <td>2018.00</td>\n",
              "      <td>7.00</td>\n",
              "      <td>22.00</td>\n",
              "    </tr>\n",
              "    <tr>\n",
              "      <th>8777</th>\n",
              "      <td>American Wild Wings</td>\n",
              "      <td>NaN</td>\n",
              "      <td>NaN</td>\n",
              "      <td>NaN</td>\n",
              "      <td>0.00</td>\n",
              "      <td>NaN</td>\n",
              "      <td>NaN</td>\n",
              "      <td>NaN</td>\n",
              "      <td>NaN</td>\n",
              "      <td>NaN</td>\n",
              "    </tr>\n",
              "    <tr>\n",
              "      <th>8778</th>\n",
              "      <td>American Wild Wings</td>\n",
              "      <td>NaN</td>\n",
              "      <td>NaN</td>\n",
              "      <td>NaN</td>\n",
              "      <td>0.00</td>\n",
              "      <td>NaN</td>\n",
              "      <td>NaN</td>\n",
              "      <td>NaN</td>\n",
              "      <td>NaN</td>\n",
              "      <td>NaN</td>\n",
              "    </tr>\n",
              "    <tr>\n",
              "      <th>8779</th>\n",
              "      <td>American Wild Wings</td>\n",
              "      <td>NaN</td>\n",
              "      <td>NaN</td>\n",
              "      <td>NaN</td>\n",
              "      <td>0.00</td>\n",
              "      <td>NaN</td>\n",
              "      <td>NaN</td>\n",
              "      <td>NaN</td>\n",
              "      <td>NaN</td>\n",
              "      <td>NaN</td>\n",
              "    </tr>\n",
              "    <tr>\n",
              "      <th>8780</th>\n",
              "      <td>American Wild Wings</td>\n",
              "      <td>NaN</td>\n",
              "      <td>NaN</td>\n",
              "      <td>NaN</td>\n",
              "      <td>0.00</td>\n",
              "      <td>NaN</td>\n",
              "      <td>NaN</td>\n",
              "      <td>NaN</td>\n",
              "      <td>NaN</td>\n",
              "      <td>NaN</td>\n",
              "    </tr>\n",
              "    <tr>\n",
              "      <th>8781</th>\n",
              "      <td>American Wild Wings</td>\n",
              "      <td>NaN</td>\n",
              "      <td>NaN</td>\n",
              "      <td>NaN</td>\n",
              "      <td>0.00</td>\n",
              "      <td>NaN</td>\n",
              "      <td>NaN</td>\n",
              "      <td>NaN</td>\n",
              "      <td>NaN</td>\n",
              "      <td>NaN</td>\n",
              "    </tr>\n",
              "    <tr>\n",
              "      <th>8782</th>\n",
              "      <td>American Wild Wings</td>\n",
              "      <td>NaN</td>\n",
              "      <td>NaN</td>\n",
              "      <td>NaN</td>\n",
              "      <td>0.00</td>\n",
              "      <td>NaN</td>\n",
              "      <td>NaN</td>\n",
              "      <td>NaN</td>\n",
              "      <td>NaN</td>\n",
              "      <td>NaN</td>\n",
              "    </tr>\n",
              "    <tr>\n",
              "      <th>8783</th>\n",
              "      <td>American Wild Wings</td>\n",
              "      <td>NaN</td>\n",
              "      <td>NaN</td>\n",
              "      <td>NaN</td>\n",
              "      <td>0.00</td>\n",
              "      <td>NaN</td>\n",
              "      <td>NaN</td>\n",
              "      <td>NaN</td>\n",
              "      <td>NaN</td>\n",
              "      <td>NaN</td>\n",
              "    </tr>\n",
              "    <tr>\n",
              "      <th>8784</th>\n",
              "      <td>American Wild Wings</td>\n",
              "      <td>NaN</td>\n",
              "      <td>NaN</td>\n",
              "      <td>NaN</td>\n",
              "      <td>0.00</td>\n",
              "      <td>NaN</td>\n",
              "      <td>NaN</td>\n",
              "      <td>NaN</td>\n",
              "      <td>NaN</td>\n",
              "      <td>NaN</td>\n",
              "    </tr>\n",
              "    <tr>\n",
              "      <th>8785</th>\n",
              "      <td>American Wild Wings</td>\n",
              "      <td>NaN</td>\n",
              "      <td>NaN</td>\n",
              "      <td>NaN</td>\n",
              "      <td>0.00</td>\n",
              "      <td>NaN</td>\n",
              "      <td>NaN</td>\n",
              "      <td>NaN</td>\n",
              "      <td>NaN</td>\n",
              "      <td>NaN</td>\n",
              "    </tr>\n",
              "    <tr>\n",
              "      <th>8786</th>\n",
              "      <td>American Wild Wings</td>\n",
              "      <td>NaN</td>\n",
              "      <td>NaN</td>\n",
              "      <td>NaN</td>\n",
              "      <td>0.00</td>\n",
              "      <td>NaN</td>\n",
              "      <td>NaN</td>\n",
              "      <td>NaN</td>\n",
              "      <td>NaN</td>\n",
              "      <td>NaN</td>\n",
              "    </tr>\n",
              "    <tr>\n",
              "      <th>8787</th>\n",
              "      <td>American Wild Wings</td>\n",
              "      <td>NaN</td>\n",
              "      <td>NaN</td>\n",
              "      <td>NaN</td>\n",
              "      <td>0.00</td>\n",
              "      <td>NaN</td>\n",
              "      <td>NaN</td>\n",
              "      <td>NaN</td>\n",
              "      <td>NaN</td>\n",
              "      <td>NaN</td>\n",
              "    </tr>\n",
              "    <tr>\n",
              "      <th>8788</th>\n",
              "      <td>American Wild Wings</td>\n",
              "      <td>NaN</td>\n",
              "      <td>NaN</td>\n",
              "      <td>NaN</td>\n",
              "      <td>0.00</td>\n",
              "      <td>NaN</td>\n",
              "      <td>NaN</td>\n",
              "      <td>NaN</td>\n",
              "      <td>NaN</td>\n",
              "      <td>NaN</td>\n",
              "    </tr>\n",
              "    <tr>\n",
              "      <th>8789</th>\n",
              "      <td>American Wild Wings</td>\n",
              "      <td>NaN</td>\n",
              "      <td>NaN</td>\n",
              "      <td>NaN</td>\n",
              "      <td>0.00</td>\n",
              "      <td>NaN</td>\n",
              "      <td>NaN</td>\n",
              "      <td>NaN</td>\n",
              "      <td>NaN</td>\n",
              "      <td>NaN</td>\n",
              "    </tr>\n",
              "    <tr>\n",
              "      <th>8790</th>\n",
              "      <td>American Wild Wings</td>\n",
              "      <td>NaN</td>\n",
              "      <td>NaN</td>\n",
              "      <td>NaN</td>\n",
              "      <td>0.00</td>\n",
              "      <td>NaN</td>\n",
              "      <td>NaN</td>\n",
              "      <td>NaN</td>\n",
              "      <td>NaN</td>\n",
              "      <td>NaN</td>\n",
              "    </tr>\n",
              "    <tr>\n",
              "      <th>8791</th>\n",
              "      <td>American Wild Wings</td>\n",
              "      <td>NaN</td>\n",
              "      <td>NaN</td>\n",
              "      <td>NaN</td>\n",
              "      <td>0.00</td>\n",
              "      <td>NaN</td>\n",
              "      <td>NaN</td>\n",
              "      <td>NaN</td>\n",
              "      <td>NaN</td>\n",
              "      <td>NaN</td>\n",
              "    </tr>\n",
              "    <tr>\n",
              "      <th>8792</th>\n",
              "      <td>American Wild Wings</td>\n",
              "      <td>NaN</td>\n",
              "      <td>NaN</td>\n",
              "      <td>NaN</td>\n",
              "      <td>0.00</td>\n",
              "      <td>NaN</td>\n",
              "      <td>NaN</td>\n",
              "      <td>NaN</td>\n",
              "      <td>NaN</td>\n",
              "      <td>NaN</td>\n",
              "    </tr>\n",
              "    <tr>\n",
              "      <th>8793</th>\n",
              "      <td>American Wild Wings</td>\n",
              "      <td>NaN</td>\n",
              "      <td>NaN</td>\n",
              "      <td>NaN</td>\n",
              "      <td>0.00</td>\n",
              "      <td>NaN</td>\n",
              "      <td>NaN</td>\n",
              "      <td>NaN</td>\n",
              "      <td>NaN</td>\n",
              "      <td>NaN</td>\n",
              "    </tr>\n",
              "    <tr>\n",
              "      <th>8794</th>\n",
              "      <td>American Wild Wings</td>\n",
              "      <td>NaN</td>\n",
              "      <td>NaN</td>\n",
              "      <td>NaN</td>\n",
              "      <td>0.00</td>\n",
              "      <td>NaN</td>\n",
              "      <td>NaN</td>\n",
              "      <td>NaN</td>\n",
              "      <td>NaN</td>\n",
              "      <td>NaN</td>\n",
              "    </tr>\n",
              "    <tr>\n",
              "      <th>8795</th>\n",
              "      <td>American Wild Wings</td>\n",
              "      <td>NaN</td>\n",
              "      <td>NaN</td>\n",
              "      <td>NaN</td>\n",
              "      <td>0.00</td>\n",
              "      <td>NaN</td>\n",
              "      <td>NaN</td>\n",
              "      <td>NaN</td>\n",
              "      <td>NaN</td>\n",
              "      <td>NaN</td>\n",
              "    </tr>\n",
              "    <tr>\n",
              "      <th>8796</th>\n",
              "      <td>American Wild Wings</td>\n",
              "      <td>NaN</td>\n",
              "      <td>NaN</td>\n",
              "      <td>NaN</td>\n",
              "      <td>0.00</td>\n",
              "      <td>NaN</td>\n",
              "      <td>NaN</td>\n",
              "      <td>NaN</td>\n",
              "      <td>NaN</td>\n",
              "      <td>NaN</td>\n",
              "    </tr>\n",
              "    <tr>\n",
              "      <th>8797</th>\n",
              "      <td>American Wild Wings</td>\n",
              "      <td>NaN</td>\n",
              "      <td>NaN</td>\n",
              "      <td>NaN</td>\n",
              "      <td>0.00</td>\n",
              "      <td>NaN</td>\n",
              "      <td>NaN</td>\n",
              "      <td>NaN</td>\n",
              "      <td>NaN</td>\n",
              "      <td>NaN</td>\n",
              "    </tr>\n",
              "    <tr>\n",
              "      <th>8798</th>\n",
              "      <td>American Wild Wings</td>\n",
              "      <td>NaN</td>\n",
              "      <td>NaN</td>\n",
              "      <td>NaN</td>\n",
              "      <td>0.00</td>\n",
              "      <td>NaN</td>\n",
              "      <td>NaN</td>\n",
              "      <td>NaN</td>\n",
              "      <td>NaN</td>\n",
              "      <td>NaN</td>\n",
              "    </tr>\n",
              "    <tr>\n",
              "      <th>8799</th>\n",
              "      <td>American Wild Wings</td>\n",
              "      <td>NaN</td>\n",
              "      <td>NaN</td>\n",
              "      <td>NaN</td>\n",
              "      <td>0.00</td>\n",
              "      <td>NaN</td>\n",
              "      <td>NaN</td>\n",
              "      <td>NaN</td>\n",
              "      <td>NaN</td>\n",
              "      <td>NaN</td>\n",
              "    </tr>\n",
              "    <tr>\n",
              "      <th>9085</th>\n",
              "      <td>Arena Eleven</td>\n",
              "      <td>NaN</td>\n",
              "      <td>NaN</td>\n",
              "      <td>NaN</td>\n",
              "      <td>0.00</td>\n",
              "      <td>NaN</td>\n",
              "      <td>NaN</td>\n",
              "      <td>NaN</td>\n",
              "      <td>NaN</td>\n",
              "      <td>NaN</td>\n",
              "    </tr>\n",
              "    <tr>\n",
              "      <th>9086</th>\n",
              "      <td>Arena Eleven</td>\n",
              "      <td>NaN</td>\n",
              "      <td>NaN</td>\n",
              "      <td>NaN</td>\n",
              "      <td>0.00</td>\n",
              "      <td>NaN</td>\n",
              "      <td>NaN</td>\n",
              "      <td>NaN</td>\n",
              "      <td>NaN</td>\n",
              "      <td>NaN</td>\n",
              "    </tr>\n",
              "    <tr>\n",
              "      <th>9087</th>\n",
              "      <td>Arena Eleven</td>\n",
              "      <td>NaN</td>\n",
              "      <td>NaN</td>\n",
              "      <td>NaN</td>\n",
              "      <td>0.00</td>\n",
              "      <td>NaN</td>\n",
              "      <td>NaN</td>\n",
              "      <td>NaN</td>\n",
              "      <td>NaN</td>\n",
              "      <td>NaN</td>\n",
              "    </tr>\n",
              "    <tr>\n",
              "      <th>9088</th>\n",
              "      <td>Arena Eleven</td>\n",
              "      <td>NaN</td>\n",
              "      <td>NaN</td>\n",
              "      <td>NaN</td>\n",
              "      <td>0.00</td>\n",
              "      <td>NaN</td>\n",
              "      <td>NaN</td>\n",
              "      <td>NaN</td>\n",
              "      <td>NaN</td>\n",
              "      <td>NaN</td>\n",
              "    </tr>\n",
              "    <tr>\n",
              "      <th>9089</th>\n",
              "      <td>Arena Eleven</td>\n",
              "      <td>NaN</td>\n",
              "      <td>NaN</td>\n",
              "      <td>NaN</td>\n",
              "      <td>0.00</td>\n",
              "      <td>NaN</td>\n",
              "      <td>NaN</td>\n",
              "      <td>NaN</td>\n",
              "      <td>NaN</td>\n",
              "      <td>NaN</td>\n",
              "    </tr>\n",
              "    <tr>\n",
              "      <th>9090</th>\n",
              "      <td>Arena Eleven</td>\n",
              "      <td>NaN</td>\n",
              "      <td>NaN</td>\n",
              "      <td>NaN</td>\n",
              "      <td>0.00</td>\n",
              "      <td>NaN</td>\n",
              "      <td>NaN</td>\n",
              "      <td>NaN</td>\n",
              "      <td>NaN</td>\n",
              "      <td>NaN</td>\n",
              "    </tr>\n",
              "    <tr>\n",
              "      <th>9091</th>\n",
              "      <td>Arena Eleven</td>\n",
              "      <td>NaN</td>\n",
              "      <td>NaN</td>\n",
              "      <td>NaN</td>\n",
              "      <td>0.00</td>\n",
              "      <td>NaN</td>\n",
              "      <td>NaN</td>\n",
              "      <td>NaN</td>\n",
              "      <td>NaN</td>\n",
              "      <td>NaN</td>\n",
              "    </tr>\n",
              "    <tr>\n",
              "      <th>9092</th>\n",
              "      <td>Arena Eleven</td>\n",
              "      <td>NaN</td>\n",
              "      <td>NaN</td>\n",
              "      <td>NaN</td>\n",
              "      <td>0.00</td>\n",
              "      <td>NaN</td>\n",
              "      <td>NaN</td>\n",
              "      <td>NaN</td>\n",
              "      <td>NaN</td>\n",
              "      <td>NaN</td>\n",
              "    </tr>\n",
              "    <tr>\n",
              "      <th>9093</th>\n",
              "      <td>Arena Eleven</td>\n",
              "      <td>NaN</td>\n",
              "      <td>NaN</td>\n",
              "      <td>NaN</td>\n",
              "      <td>0.00</td>\n",
              "      <td>NaN</td>\n",
              "      <td>NaN</td>\n",
              "      <td>NaN</td>\n",
              "      <td>NaN</td>\n",
              "      <td>NaN</td>\n",
              "    </tr>\n",
              "    <tr>\n",
              "      <th>9094</th>\n",
              "      <td>Arena Eleven</td>\n",
              "      <td>NaN</td>\n",
              "      <td>NaN</td>\n",
              "      <td>NaN</td>\n",
              "      <td>0.00</td>\n",
              "      <td>NaN</td>\n",
              "      <td>NaN</td>\n",
              "      <td>NaN</td>\n",
              "      <td>NaN</td>\n",
              "      <td>NaN</td>\n",
              "    </tr>\n",
              "    <tr>\n",
              "      <th>9095</th>\n",
              "      <td>Arena Eleven</td>\n",
              "      <td>NaN</td>\n",
              "      <td>NaN</td>\n",
              "      <td>NaN</td>\n",
              "      <td>0.00</td>\n",
              "      <td>NaN</td>\n",
              "      <td>NaN</td>\n",
              "      <td>NaN</td>\n",
              "      <td>NaN</td>\n",
              "      <td>NaN</td>\n",
              "    </tr>\n",
              "    <tr>\n",
              "      <th>9096</th>\n",
              "      <td>Arena Eleven</td>\n",
              "      <td>NaN</td>\n",
              "      <td>NaN</td>\n",
              "      <td>NaN</td>\n",
              "      <td>0.00</td>\n",
              "      <td>NaN</td>\n",
              "      <td>NaN</td>\n",
              "      <td>NaN</td>\n",
              "      <td>NaN</td>\n",
              "      <td>NaN</td>\n",
              "    </tr>\n",
              "    <tr>\n",
              "      <th>9097</th>\n",
              "      <td>Arena Eleven</td>\n",
              "      <td>NaN</td>\n",
              "      <td>NaN</td>\n",
              "      <td>NaN</td>\n",
              "      <td>0.00</td>\n",
              "      <td>NaN</td>\n",
              "      <td>NaN</td>\n",
              "      <td>NaN</td>\n",
              "      <td>NaN</td>\n",
              "      <td>NaN</td>\n",
              "    </tr>\n",
              "    <tr>\n",
              "      <th>9098</th>\n",
              "      <td>Arena Eleven</td>\n",
              "      <td>NaN</td>\n",
              "      <td>NaN</td>\n",
              "      <td>NaN</td>\n",
              "      <td>0.00</td>\n",
              "      <td>NaN</td>\n",
              "      <td>NaN</td>\n",
              "      <td>NaN</td>\n",
              "      <td>NaN</td>\n",
              "      <td>NaN</td>\n",
              "    </tr>\n",
              "    <tr>\n",
              "      <th>9099</th>\n",
              "      <td>Arena Eleven</td>\n",
              "      <td>NaN</td>\n",
              "      <td>NaN</td>\n",
              "      <td>NaN</td>\n",
              "      <td>0.00</td>\n",
              "      <td>NaN</td>\n",
              "      <td>NaN</td>\n",
              "      <td>NaN</td>\n",
              "      <td>NaN</td>\n",
              "      <td>NaN</td>\n",
              "    </tr>\n",
              "  </tbody>\n",
              "</table>\n",
              "</div>\n",
              "      <button class=\"colab-df-convert\" onclick=\"convertToInteractive('df-00b430a7-4d70-4588-a9a0-0ba944b33e04')\"\n",
              "              title=\"Convert this dataframe to an interactive table.\"\n",
              "              style=\"display:none;\">\n",
              "        \n",
              "  <svg xmlns=\"http://www.w3.org/2000/svg\" height=\"24px\"viewBox=\"0 0 24 24\"\n",
              "       width=\"24px\">\n",
              "    <path d=\"M0 0h24v24H0V0z\" fill=\"none\"/>\n",
              "    <path d=\"M18.56 5.44l.94 2.06.94-2.06 2.06-.94-2.06-.94-.94-2.06-.94 2.06-2.06.94zm-11 1L8.5 8.5l.94-2.06 2.06-.94-2.06-.94L8.5 2.5l-.94 2.06-2.06.94zm10 10l.94 2.06.94-2.06 2.06-.94-2.06-.94-.94-2.06-.94 2.06-2.06.94z\"/><path d=\"M17.41 7.96l-1.37-1.37c-.4-.4-.92-.59-1.43-.59-.52 0-1.04.2-1.43.59L10.3 9.45l-7.72 7.72c-.78.78-.78 2.05 0 2.83L4 21.41c.39.39.9.59 1.41.59.51 0 1.02-.2 1.41-.59l7.78-7.78 2.81-2.81c.8-.78.8-2.07 0-2.86zM5.41 20L4 18.59l7.72-7.72 1.47 1.35L5.41 20z\"/>\n",
              "  </svg>\n",
              "      </button>\n",
              "      \n",
              "  <style>\n",
              "    .colab-df-container {\n",
              "      display:flex;\n",
              "      flex-wrap:wrap;\n",
              "      gap: 12px;\n",
              "    }\n",
              "\n",
              "    .colab-df-convert {\n",
              "      background-color: #E8F0FE;\n",
              "      border: none;\n",
              "      border-radius: 50%;\n",
              "      cursor: pointer;\n",
              "      display: none;\n",
              "      fill: #1967D2;\n",
              "      height: 32px;\n",
              "      padding: 0 0 0 0;\n",
              "      width: 32px;\n",
              "    }\n",
              "\n",
              "    .colab-df-convert:hover {\n",
              "      background-color: #E2EBFA;\n",
              "      box-shadow: 0px 1px 2px rgba(60, 64, 67, 0.3), 0px 1px 3px 1px rgba(60, 64, 67, 0.15);\n",
              "      fill: #174EA6;\n",
              "    }\n",
              "\n",
              "    [theme=dark] .colab-df-convert {\n",
              "      background-color: #3B4455;\n",
              "      fill: #D2E3FC;\n",
              "    }\n",
              "\n",
              "    [theme=dark] .colab-df-convert:hover {\n",
              "      background-color: #434B5C;\n",
              "      box-shadow: 0px 1px 3px 1px rgba(0, 0, 0, 0.15);\n",
              "      filter: drop-shadow(0px 1px 2px rgba(0, 0, 0, 0.3));\n",
              "      fill: #FFFFFF;\n",
              "    }\n",
              "  </style>\n",
              "\n",
              "      <script>\n",
              "        const buttonEl =\n",
              "          document.querySelector('#df-00b430a7-4d70-4588-a9a0-0ba944b33e04 button.colab-df-convert');\n",
              "        buttonEl.style.display =\n",
              "          google.colab.kernel.accessAllowed ? 'block' : 'none';\n",
              "\n",
              "        async function convertToInteractive(key) {\n",
              "          const element = document.querySelector('#df-00b430a7-4d70-4588-a9a0-0ba944b33e04');\n",
              "          const dataTable =\n",
              "            await google.colab.kernel.invokeFunction('convertToInteractive',\n",
              "                                                     [key], {});\n",
              "          if (!dataTable) return;\n",
              "\n",
              "          const docLinkHtml = 'Like what you see? Visit the ' +\n",
              "            '<a target=\"_blank\" href=https://colab.research.google.com/notebooks/data_table.ipynb>data table notebook</a>'\n",
              "            + ' to learn more about interactive tables.';\n",
              "          element.innerHTML = '';\n",
              "          dataTable['output_type'] = 'display_data';\n",
              "          await google.colab.output.renderOutput(dataTable, element);\n",
              "          const docLink = document.createElement('div');\n",
              "          docLink.innerHTML = docLinkHtml;\n",
              "          element.appendChild(docLink);\n",
              "        }\n",
              "      </script>\n",
              "    </div>\n",
              "  </div>\n",
              "  "
            ]
          },
          "metadata": {},
          "execution_count": 342
        }
      ]
    },
    {
      "cell_type": "markdown",
      "source": [
        "Most values in this row is null hence we will drop them \n"
      ],
      "metadata": {
        "id": "2WmS5T7Vnjf9"
      }
    },
    {
      "cell_type": "code",
      "source": [
        "reviews_df.drop(y, inplace = True)"
      ],
      "metadata": {
        "id": "OLacWDK0mEiX"
      },
      "execution_count": 343,
      "outputs": []
    },
    {
      "cell_type": "code",
      "source": [
        "meta_df.isna().sum()"
      ],
      "metadata": {
        "colab": {
          "base_uri": "https://localhost:8080/"
        },
        "id": "r4kssyx9nEIu",
        "outputId": "25ddc82d-8388-4e0b-8e24-e44fad26200b"
      },
      "execution_count": 355,
      "outputs": [
        {
          "output_type": "execute_result",
          "data": {
            "text/plain": [
              "index                   0\n",
              "Name                    0\n",
              "Links                   0\n",
              "Cost                    0\n",
              "Collections            54\n",
              "Cuisines                0\n",
              "Timings                 0\n",
              "latitude                0\n",
              "longitude               0\n",
              "additional_services     0\n",
              "Has_Featured            0\n",
              "known_for              10\n",
              "status                  0\n",
              "Popular_Dishes         24\n",
              "dtype: int64"
            ]
          },
          "metadata": {},
          "execution_count": 355
        }
      ]
    },
    {
      "cell_type": "markdown",
      "source": [
        "Imputing the values with zero as it is quite possible that the user has no followers and zero reviews "
      ],
      "metadata": {
        "id": "Lk8SiDMYoRV5"
      }
    },
    {
      "cell_type": "code",
      "source": [
        "''' Imputing nan values with 0 '''\n",
        "\n",
        "reviews_df.loc[reviews_df['Review'].isna()] = 0\n",
        "\n",
        "reviews_df.loc[reviews_df['Followers'].isna()] = 0"
      ],
      "metadata": {
        "id": "1u0OMcN-oMMu"
      },
      "execution_count": 353,
      "outputs": []
    }
  ]
}